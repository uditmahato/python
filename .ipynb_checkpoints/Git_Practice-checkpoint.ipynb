{
 "cells": [
  {
   "cell_type": "code",
   "execution_count": 14,
   "id": "8209da17",
   "metadata": {
    "scrolled": true
   },
   "outputs": [
    {
     "name": "stdout",
     "output_type": "stream",
     "text": [
      "0 is neither Odd nor Even number\n",
      "1 is an odd number \n",
      "2 is an even number \n",
      "3 is an odd number \n",
      "4 is an even number \n",
      "5 is an odd number \n",
      "6 is an even number \n",
      "7 is an odd number \n",
      "8 is an even number \n",
      "9 is an odd number \n"
     ]
    }
   ],
   "source": [
    "a=0\n",
    "while a<10:\n",
    "    if a==0:\n",
    "        print(f'{a} is neither Odd nor Even number')\n",
    "        a+=1\n",
    "    elif a%2==0:\n",
    "        print(f'{a} is an even number ')\n",
    "        a+=1\n",
    "    else:\n",
    "        print(f'{a} is an odd number ')\n",
    "        a+=1"
   ]
  },
  {
   "cell_type": "code",
   "execution_count": null,
   "id": "6b4e0b31",
   "metadata": {},
   "outputs": [],
   "source": []
  }
 ],
 "metadata": {
  "kernelspec": {
   "display_name": "Python 3 (ipykernel)",
   "language": "python",
   "name": "python3"
  },
  "language_info": {
   "codemirror_mode": {
    "name": "ipython",
    "version": 3
   },
   "file_extension": ".py",
   "mimetype": "text/x-python",
   "name": "python",
   "nbconvert_exporter": "python",
   "pygments_lexer": "ipython3",
   "version": "3.11.4"
  }
 },
 "nbformat": 4,
 "nbformat_minor": 5
}

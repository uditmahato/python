{
 "cells": [
  {
   "cell_type": "code",
   "execution_count": 2,
   "id": "cc84ce29",
   "metadata": {},
   "outputs": [],
   "source": [
    "import numpy as np"
   ]
  },
  {
   "cell_type": "code",
   "execution_count": 3,
   "id": "5b3800b8",
   "metadata": {},
   "outputs": [],
   "source": [
    "arr=np.array({34,45,67,8})"
   ]
  },
  {
   "cell_type": "code",
   "execution_count": 4,
   "id": "9280b78a",
   "metadata": {},
   "outputs": [
    {
     "data": {
      "text/plain": [
       "array({8, 34, 67, 45}, dtype=object)"
      ]
     },
     "execution_count": 4,
     "metadata": {},
     "output_type": "execute_result"
    }
   ],
   "source": [
    "arr"
   ]
  },
  {
   "cell_type": "code",
   "execution_count": 5,
   "id": "e2816b60",
   "metadata": {},
   "outputs": [
    {
     "name": "stdout",
     "output_type": "stream",
     "text": [
      "{8, 34, 67, 45}\n"
     ]
    }
   ],
   "source": [
    "print(arr)"
   ]
  },
  {
   "cell_type": "code",
   "execution_count": 6,
   "id": "fab1b920",
   "metadata": {},
   "outputs": [
    {
     "data": {
      "text/plain": [
       "'1.26.0'"
      ]
     },
     "execution_count": 6,
     "metadata": {},
     "output_type": "execute_result"
    }
   ],
   "source": [
    "np.__version__"
   ]
  },
  {
   "cell_type": "code",
   "execution_count": 7,
   "id": "1bc193b4",
   "metadata": {},
   "outputs": [
    {
     "data": {
      "text/plain": [
       "{8, 34, 45, 67}"
      ]
     },
     "execution_count": 7,
     "metadata": {},
     "output_type": "execute_result"
    }
   ],
   "source": [
    "arr.sum()"
   ]
  },
  {
   "cell_type": "code",
   "execution_count": 8,
   "id": "fe72929d",
   "metadata": {},
   "outputs": [],
   "source": [
    "arr=np.array((34,45,67,8))"
   ]
  },
  {
   "cell_type": "code",
   "execution_count": 9,
   "id": "8cc493a3",
   "metadata": {},
   "outputs": [
    {
     "data": {
      "text/plain": [
       "154"
      ]
     },
     "execution_count": 9,
     "metadata": {},
     "output_type": "execute_result"
    }
   ],
   "source": [
    "arr.sum()"
   ]
  },
  {
   "cell_type": "code",
   "execution_count": 10,
   "id": "b00c5d11",
   "metadata": {},
   "outputs": [
    {
     "data": {
      "text/plain": [
       "dtype('int64')"
      ]
     },
     "execution_count": 10,
     "metadata": {},
     "output_type": "execute_result"
    }
   ],
   "source": [
    "arr.dtype"
   ]
  },
  {
   "cell_type": "markdown",
   "id": "ef9deb07",
   "metadata": {},
   "source": [
    "### Dimensions in numpy array"
   ]
  },
  {
   "cell_type": "code",
   "execution_count": 11,
   "id": "936b03f5",
   "metadata": {},
   "outputs": [],
   "source": [
    "a=np.array(45)"
   ]
  },
  {
   "cell_type": "code",
   "execution_count": 12,
   "id": "00728773",
   "metadata": {},
   "outputs": [],
   "source": [
    "b=np.array((45,65))"
   ]
  },
  {
   "cell_type": "code",
   "execution_count": 13,
   "id": "ae8eab29",
   "metadata": {},
   "outputs": [],
   "source": [
    "c=np.array(((45,60),(78,90)))"
   ]
  },
  {
   "cell_type": "code",
   "execution_count": 14,
   "id": "794a0ffe",
   "metadata": {},
   "outputs": [],
   "source": [
    "d=np.array((((45,60),(78,90)),((40,40),(80,80))))"
   ]
  },
  {
   "cell_type": "code",
   "execution_count": 15,
   "id": "b3d3fa1f",
   "metadata": {},
   "outputs": [
    {
     "data": {
      "text/plain": [
       "0"
      ]
     },
     "execution_count": 15,
     "metadata": {},
     "output_type": "execute_result"
    }
   ],
   "source": [
    "a.ndim"
   ]
  },
  {
   "cell_type": "code",
   "execution_count": 16,
   "id": "da04096d",
   "metadata": {},
   "outputs": [
    {
     "data": {
      "text/plain": [
       "1"
      ]
     },
     "execution_count": 16,
     "metadata": {},
     "output_type": "execute_result"
    }
   ],
   "source": [
    "b.ndim"
   ]
  },
  {
   "cell_type": "code",
   "execution_count": 17,
   "id": "1ccf5370",
   "metadata": {},
   "outputs": [
    {
     "data": {
      "text/plain": [
       "2"
      ]
     },
     "execution_count": 17,
     "metadata": {},
     "output_type": "execute_result"
    }
   ],
   "source": [
    "c.ndim"
   ]
  },
  {
   "cell_type": "code",
   "execution_count": 18,
   "id": "9a3c5eeb",
   "metadata": {},
   "outputs": [
    {
     "data": {
      "text/plain": [
       "3"
      ]
     },
     "execution_count": 18,
     "metadata": {},
     "output_type": "execute_result"
    }
   ],
   "source": [
    "d.ndim"
   ]
  },
  {
   "cell_type": "code",
   "execution_count": 19,
   "id": "6f05feab",
   "metadata": {},
   "outputs": [
    {
     "name": "stdout",
     "output_type": "stream",
     "text": [
      "45\n"
     ]
    }
   ],
   "source": [
    "print(a)"
   ]
  },
  {
   "cell_type": "code",
   "execution_count": 20,
   "id": "847b25e0",
   "metadata": {},
   "outputs": [
    {
     "name": "stdout",
     "output_type": "stream",
     "text": [
      "[45 65]\n"
     ]
    }
   ],
   "source": [
    "print(b)"
   ]
  },
  {
   "cell_type": "code",
   "execution_count": 21,
   "id": "9d20ab26",
   "metadata": {
    "scrolled": true
   },
   "outputs": [
    {
     "name": "stdout",
     "output_type": "stream",
     "text": [
      "[[45 60]\n",
      " [78 90]]\n"
     ]
    }
   ],
   "source": [
    "print(c)"
   ]
  },
  {
   "cell_type": "code",
   "execution_count": 22,
   "id": "99712d3a",
   "metadata": {
    "scrolled": true
   },
   "outputs": [
    {
     "name": "stdout",
     "output_type": "stream",
     "text": [
      "[[[45 60]\n",
      "  [78 90]]\n",
      "\n",
      " [[40 40]\n",
      "  [80 80]]]\n"
     ]
    }
   ],
   "source": [
    "print(d)"
   ]
  },
  {
   "cell_type": "markdown",
   "id": "8722e242",
   "metadata": {},
   "source": [
    "## Aarray Indexing in Numpy"
   ]
  },
  {
   "cell_type": "code",
   "execution_count": 23,
   "id": "09b25029",
   "metadata": {},
   "outputs": [
    {
     "data": {
      "text/plain": [
       "65"
      ]
     },
     "execution_count": 23,
     "metadata": {},
     "output_type": "execute_result"
    }
   ],
   "source": [
    "b[1]"
   ]
  },
  {
   "cell_type": "code",
   "execution_count": 24,
   "id": "e6e3da1a",
   "metadata": {},
   "outputs": [
    {
     "data": {
      "text/plain": [
       "array([78, 90])"
      ]
     },
     "execution_count": 24,
     "metadata": {},
     "output_type": "execute_result"
    }
   ],
   "source": [
    "c[1]"
   ]
  },
  {
   "cell_type": "code",
   "execution_count": 25,
   "id": "3277de8a",
   "metadata": {},
   "outputs": [
    {
     "data": {
      "text/plain": [
       "60"
      ]
     },
     "execution_count": 25,
     "metadata": {},
     "output_type": "execute_result"
    }
   ],
   "source": [
    "c[0][1]"
   ]
  },
  {
   "cell_type": "code",
   "execution_count": 26,
   "id": "f26e8604",
   "metadata": {},
   "outputs": [
    {
     "data": {
      "text/plain": [
       "array([[40, 40],\n",
       "       [80, 80]])"
      ]
     },
     "execution_count": 26,
     "metadata": {},
     "output_type": "execute_result"
    }
   ],
   "source": [
    "d[1]"
   ]
  },
  {
   "cell_type": "code",
   "execution_count": 27,
   "id": "846ec01b",
   "metadata": {},
   "outputs": [
    {
     "data": {
      "text/plain": [
       "array([80, 80])"
      ]
     },
     "execution_count": 27,
     "metadata": {},
     "output_type": "execute_result"
    }
   ],
   "source": [
    "d[1][1]"
   ]
  },
  {
   "cell_type": "code",
   "execution_count": 28,
   "id": "bade02e8",
   "metadata": {},
   "outputs": [
    {
     "data": {
      "text/plain": [
       "80"
      ]
     },
     "execution_count": 28,
     "metadata": {},
     "output_type": "execute_result"
    }
   ],
   "source": [
    "d[1][1][1]"
   ]
  },
  {
   "cell_type": "code",
   "execution_count": 29,
   "id": "96eeb12c",
   "metadata": {},
   "outputs": [],
   "source": [
    "z=np.array(([43,56,81,90,102,40],[41,54,80,99,98,97]))"
   ]
  },
  {
   "cell_type": "code",
   "execution_count": 30,
   "id": "3959173e",
   "metadata": {},
   "outputs": [
    {
     "data": {
      "text/plain": [
       "56"
      ]
     },
     "execution_count": 30,
     "metadata": {},
     "output_type": "execute_result"
    }
   ],
   "source": [
    "z[0][1]"
   ]
  },
  {
   "cell_type": "code",
   "execution_count": 31,
   "id": "dae7a9e9",
   "metadata": {},
   "outputs": [
    {
     "data": {
      "text/plain": [
       "99"
      ]
     },
     "execution_count": 31,
     "metadata": {},
     "output_type": "execute_result"
    }
   ],
   "source": [
    "z[1 ,3]"
   ]
  },
  {
   "cell_type": "code",
   "execution_count": 32,
   "id": "5349e9e6",
   "metadata": {},
   "outputs": [
    {
     "data": {
      "text/plain": [
       "98"
      ]
     },
     "execution_count": 32,
     "metadata": {},
     "output_type": "execute_result"
    }
   ],
   "source": [
    "z[1,-2]"
   ]
  },
  {
   "cell_type": "code",
   "execution_count": 33,
   "id": "648049e9",
   "metadata": {},
   "outputs": [
    {
     "data": {
      "text/plain": [
       "array([56, 81])"
      ]
     },
     "execution_count": 33,
     "metadata": {},
     "output_type": "execute_result"
    }
   ],
   "source": [
    "z[0,1:3]"
   ]
  },
  {
   "cell_type": "code",
   "execution_count": 34,
   "id": "1be35897",
   "metadata": {},
   "outputs": [],
   "source": [
    "y=np.array([41,54,80,99,98,97])"
   ]
  },
  {
   "cell_type": "code",
   "execution_count": 35,
   "id": "b6ccad28",
   "metadata": {
    "scrolled": true
   },
   "outputs": [
    {
     "data": {
      "text/plain": [
       "array([41, 54, 80, 99, 98, 97])"
      ]
     },
     "execution_count": 35,
     "metadata": {},
     "output_type": "execute_result"
    }
   ],
   "source": [
    "y"
   ]
  },
  {
   "cell_type": "code",
   "execution_count": 36,
   "id": "ff72fc69",
   "metadata": {},
   "outputs": [
    {
     "data": {
      "text/plain": [
       "41"
      ]
     },
     "execution_count": 36,
     "metadata": {},
     "output_type": "execute_result"
    }
   ],
   "source": [
    "y[0]"
   ]
  },
  {
   "cell_type": "code",
   "execution_count": 37,
   "id": "da3de202",
   "metadata": {},
   "outputs": [
    {
     "data": {
      "text/plain": [
       "97"
      ]
     },
     "execution_count": 37,
     "metadata": {},
     "output_type": "execute_result"
    }
   ],
   "source": [
    "y[5]"
   ]
  },
  {
   "cell_type": "code",
   "execution_count": 38,
   "id": "506f0845",
   "metadata": {},
   "outputs": [
    {
     "data": {
      "text/plain": [
       "array([54, 80, 99, 98])"
      ]
     },
     "execution_count": 38,
     "metadata": {},
     "output_type": "execute_result"
    }
   ],
   "source": [
    "y[1:5]"
   ]
  },
  {
   "cell_type": "code",
   "execution_count": 39,
   "id": "de377141",
   "metadata": {},
   "outputs": [
    {
     "data": {
      "text/plain": [
       "array([54, 98])"
      ]
     },
     "execution_count": 39,
     "metadata": {},
     "output_type": "execute_result"
    }
   ],
   "source": [
    "y[1:6:3]"
   ]
  },
  {
   "cell_type": "markdown",
   "id": "102b683a",
   "metadata": {},
   "source": [
    "## Data Types numpy"
   ]
  },
  {
   "cell_type": "code",
   "execution_count": 40,
   "id": "6d5c7503",
   "metadata": {},
   "outputs": [
    {
     "data": {
      "text/plain": [
       "dtype('int64')"
      ]
     },
     "execution_count": 40,
     "metadata": {},
     "output_type": "execute_result"
    }
   ],
   "source": [
    "y.dtype"
   ]
  },
  {
   "cell_type": "code",
   "execution_count": 41,
   "id": "905934b2",
   "metadata": {},
   "outputs": [],
   "source": [
    "x=np.array([41.5,54.6,80,99,98.5,97])"
   ]
  },
  {
   "cell_type": "code",
   "execution_count": 42,
   "id": "05c4dbc7",
   "metadata": {},
   "outputs": [
    {
     "data": {
      "text/plain": [
       "dtype('float64')"
      ]
     },
     "execution_count": 42,
     "metadata": {},
     "output_type": "execute_result"
    }
   ],
   "source": [
    "x.dtype"
   ]
  },
  {
   "cell_type": "code",
   "execution_count": 43,
   "id": "0f89ae35",
   "metadata": {},
   "outputs": [],
   "source": [
    "import numpy as np"
   ]
  },
  {
   "cell_type": "code",
   "execution_count": 44,
   "id": "c5c58de6",
   "metadata": {},
   "outputs": [],
   "source": [
    "y=np.array([1+2j,5+3j,6+4j] ,dtype='complex' )"
   ]
  },
  {
   "cell_type": "code",
   "execution_count": 45,
   "id": "41a3773d",
   "metadata": {},
   "outputs": [
    {
     "data": {
      "text/plain": [
       "array([1.+2.j, 5.+3.j, 6.+4.j])"
      ]
     },
     "execution_count": 45,
     "metadata": {},
     "output_type": "execute_result"
    }
   ],
   "source": [
    "y"
   ]
  },
  {
   "cell_type": "code",
   "execution_count": 46,
   "id": "39137e74",
   "metadata": {},
   "outputs": [
    {
     "data": {
      "text/plain": [
       "dtype('complex128')"
      ]
     },
     "execution_count": 46,
     "metadata": {},
     "output_type": "execute_result"
    }
   ],
   "source": [
    "y.dtype"
   ]
  },
  {
   "cell_type": "code",
   "execution_count": 47,
   "id": "051b6f21",
   "metadata": {},
   "outputs": [],
   "source": [
    "k=np.array([41.5,54.6,80,99,98.5,97,97758686768],dtype='S')"
   ]
  },
  {
   "cell_type": "code",
   "execution_count": 48,
   "id": "ce598f80",
   "metadata": {},
   "outputs": [
    {
     "data": {
      "text/plain": [
       "dtype('S11')"
      ]
     },
     "execution_count": 48,
     "metadata": {},
     "output_type": "execute_result"
    }
   ],
   "source": [
    "k.dtype"
   ]
  },
  {
   "cell_type": "code",
   "execution_count": 49,
   "id": "db06b133",
   "metadata": {},
   "outputs": [
    {
     "data": {
      "text/plain": [
       "array([b'41.5', b'54.6', b'80', b'99', b'98.5', b'97', b'97758686768'],\n",
       "      dtype='|S11')"
      ]
     },
     "execution_count": 49,
     "metadata": {},
     "output_type": "execute_result"
    }
   ],
   "source": [
    "k"
   ]
  },
  {
   "cell_type": "code",
   "execution_count": 50,
   "id": "743c2a9c",
   "metadata": {},
   "outputs": [],
   "source": [
    "ab=np.array(['abc','apple','ball'])"
   ]
  },
  {
   "cell_type": "code",
   "execution_count": 51,
   "id": "659e94e3",
   "metadata": {},
   "outputs": [
    {
     "data": {
      "text/plain": [
       "array(['abc', 'apple', 'ball'], dtype='<U5')"
      ]
     },
     "execution_count": 51,
     "metadata": {},
     "output_type": "execute_result"
    }
   ],
   "source": [
    "ab"
   ]
  },
  {
   "cell_type": "code",
   "execution_count": 52,
   "id": "f286cd7b",
   "metadata": {},
   "outputs": [
    {
     "name": "stdout",
     "output_type": "stream",
     "text": [
      "['abc' 'apple' 'ball']\n"
     ]
    }
   ],
   "source": [
    "print(ab)"
   ]
  },
  {
   "cell_type": "code",
   "execution_count": 53,
   "id": "f45523a1",
   "metadata": {},
   "outputs": [
    {
     "data": {
      "text/plain": [
       "dtype('<U5')"
      ]
     },
     "execution_count": 53,
     "metadata": {},
     "output_type": "execute_result"
    }
   ],
   "source": [
    "ab.dtype"
   ]
  },
  {
   "cell_type": "markdown",
   "id": "a61fc86a",
   "metadata": {},
   "source": [
    "## Copy "
   ]
  },
  {
   "cell_type": "code",
   "execution_count": 54,
   "id": "0d558e51",
   "metadata": {},
   "outputs": [],
   "source": [
    "te=x.copy()"
   ]
  },
  {
   "cell_type": "code",
   "execution_count": 55,
   "id": "84469a05",
   "metadata": {},
   "outputs": [
    {
     "data": {
      "text/plain": [
       "array([41.5, 54.6, 80. , 99. , 98.5, 97. ])"
      ]
     },
     "execution_count": 55,
     "metadata": {},
     "output_type": "execute_result"
    }
   ],
   "source": [
    "te"
   ]
  },
  {
   "cell_type": "code",
   "execution_count": 56,
   "id": "a2ac85ad",
   "metadata": {},
   "outputs": [],
   "source": [
    "te[4]=56"
   ]
  },
  {
   "cell_type": "code",
   "execution_count": 57,
   "id": "c9e4aaeb",
   "metadata": {},
   "outputs": [
    {
     "data": {
      "text/plain": [
       "array([41.5, 54.6, 80. , 99. , 56. , 97. ])"
      ]
     },
     "execution_count": 57,
     "metadata": {},
     "output_type": "execute_result"
    }
   ],
   "source": [
    "te"
   ]
  },
  {
   "cell_type": "code",
   "execution_count": 58,
   "id": "c89a5cd3",
   "metadata": {
    "scrolled": true
   },
   "outputs": [
    {
     "data": {
      "text/plain": [
       "array([41.5, 54.6, 80. , 99. , 98.5, 97. ])"
      ]
     },
     "execution_count": 58,
     "metadata": {},
     "output_type": "execute_result"
    }
   ],
   "source": [
    "x"
   ]
  },
  {
   "cell_type": "code",
   "execution_count": 59,
   "id": "bf5ce2fb",
   "metadata": {},
   "outputs": [],
   "source": [
    "cd=x.view()"
   ]
  },
  {
   "cell_type": "code",
   "execution_count": 60,
   "id": "965cf8ba",
   "metadata": {},
   "outputs": [
    {
     "data": {
      "text/plain": [
       "array([41.5, 54.6, 80. , 99. , 98.5, 97. ])"
      ]
     },
     "execution_count": 60,
     "metadata": {},
     "output_type": "execute_result"
    }
   ],
   "source": [
    "cd"
   ]
  },
  {
   "cell_type": "code",
   "execution_count": 61,
   "id": "d384be53",
   "metadata": {},
   "outputs": [
    {
     "data": {
      "text/plain": [
       "array([41.5, 54.6, 80. , 99. , 98.5, 97. ])"
      ]
     },
     "execution_count": 61,
     "metadata": {},
     "output_type": "execute_result"
    }
   ],
   "source": [
    "x"
   ]
  },
  {
   "cell_type": "code",
   "execution_count": 62,
   "id": "7544b005",
   "metadata": {},
   "outputs": [],
   "source": [
    "cd[0]=20"
   ]
  },
  {
   "cell_type": "code",
   "execution_count": 63,
   "id": "2d57ab24",
   "metadata": {},
   "outputs": [
    {
     "data": {
      "text/plain": [
       "array([20. , 54.6, 80. , 99. , 98.5, 97. ])"
      ]
     },
     "execution_count": 63,
     "metadata": {},
     "output_type": "execute_result"
    }
   ],
   "source": [
    "cd"
   ]
  },
  {
   "cell_type": "code",
   "execution_count": 64,
   "id": "19c48e42",
   "metadata": {},
   "outputs": [
    {
     "data": {
      "text/plain": [
       "array([20. , 54.6, 80. , 99. , 98.5, 97. ])"
      ]
     },
     "execution_count": 64,
     "metadata": {},
     "output_type": "execute_result"
    }
   ],
   "source": [
    "x"
   ]
  },
  {
   "cell_type": "markdown",
   "id": "0b738a35",
   "metadata": {},
   "source": [
    "## Shape"
   ]
  },
  {
   "cell_type": "code",
   "execution_count": 65,
   "id": "63ac856d",
   "metadata": {},
   "outputs": [
    {
     "data": {
      "text/plain": [
       "(6,)"
      ]
     },
     "execution_count": 65,
     "metadata": {},
     "output_type": "execute_result"
    }
   ],
   "source": [
    "x.shape"
   ]
  },
  {
   "cell_type": "code",
   "execution_count": 66,
   "id": "07415f2e",
   "metadata": {},
   "outputs": [],
   "source": [
    "z=np.array(([43,56,81,90,102,40],[41,54,80,99,98,97]))"
   ]
  },
  {
   "cell_type": "code",
   "execution_count": 67,
   "id": "4c41e6a6",
   "metadata": {},
   "outputs": [
    {
     "data": {
      "text/plain": [
       "(2, 6)"
      ]
     },
     "execution_count": 67,
     "metadata": {},
     "output_type": "execute_result"
    }
   ],
   "source": [
    "z.shape"
   ]
  },
  {
   "cell_type": "code",
   "execution_count": 68,
   "id": "309537a0",
   "metadata": {},
   "outputs": [
    {
     "name": "stdout",
     "output_type": "stream",
     "text": [
      "[[ 43  56  81  90 102  40]\n",
      " [ 41  54  80  99  98  97]]\n"
     ]
    }
   ],
   "source": [
    "print(z)"
   ]
  },
  {
   "cell_type": "code",
   "execution_count": 69,
   "id": "31ae64ce",
   "metadata": {},
   "outputs": [],
   "source": [
    "d=np.array((((45,60),(78,90)),((40,40),(80,80))))"
   ]
  },
  {
   "cell_type": "code",
   "execution_count": 70,
   "id": "3be7ec95",
   "metadata": {},
   "outputs": [
    {
     "data": {
      "text/plain": [
       "3"
      ]
     },
     "execution_count": 70,
     "metadata": {},
     "output_type": "execute_result"
    }
   ],
   "source": [
    "d.ndim"
   ]
  },
  {
   "cell_type": "code",
   "execution_count": 71,
   "id": "c0623943",
   "metadata": {},
   "outputs": [
    {
     "name": "stdout",
     "output_type": "stream",
     "text": [
      "[[[45 60]\n",
      "  [78 90]]\n",
      "\n",
      " [[40 40]\n",
      "  [80 80]]]\n"
     ]
    }
   ],
   "source": [
    "print(d)"
   ]
  },
  {
   "cell_type": "code",
   "execution_count": 72,
   "id": "13e3a62c",
   "metadata": {},
   "outputs": [
    {
     "data": {
      "text/plain": [
       "(2, 2, 2)"
      ]
     },
     "execution_count": 72,
     "metadata": {},
     "output_type": "execute_result"
    }
   ],
   "source": [
    "d.shape"
   ]
  },
  {
   "cell_type": "code",
   "execution_count": 73,
   "id": "2fccb367",
   "metadata": {},
   "outputs": [],
   "source": [
    "z=z.reshape(4,3)"
   ]
  },
  {
   "cell_type": "markdown",
   "id": "11c4402a",
   "metadata": {},
   "source": [
    "## Array Iteration"
   ]
  },
  {
   "cell_type": "code",
   "execution_count": 74,
   "id": "d6ba4221",
   "metadata": {
    "scrolled": true
   },
   "outputs": [
    {
     "name": "stdout",
     "output_type": "stream",
     "text": [
      "43\n",
      "56\n",
      "81\n"
     ]
    },
    {
     "ename": "IndexError",
     "evalue": "index 3 is out of bounds for axis 0 with size 3",
     "output_type": "error",
     "traceback": [
      "\u001b[0;31m---------------------------------------------------------------------------\u001b[0m",
      "\u001b[0;31mIndexError\u001b[0m                                Traceback (most recent call last)",
      "Cell \u001b[0;32mIn[74], line 5\u001b[0m\n\u001b[1;32m      3\u001b[0m \u001b[38;5;28;01mfor\u001b[39;00m i \u001b[38;5;129;01min\u001b[39;00m \u001b[38;5;28mrange\u001b[39m(l):\n\u001b[1;32m      4\u001b[0m     \u001b[38;5;28;01mfor\u001b[39;00m j \u001b[38;5;129;01min\u001b[39;00m \u001b[38;5;28mrange\u001b[39m(\u001b[38;5;241m0\u001b[39m,l\u001b[38;5;241m+\u001b[39m\u001b[38;5;241m1\u001b[39m):\n\u001b[0;32m----> 5\u001b[0m         \u001b[38;5;28mprint\u001b[39m(z[i][j])\n",
      "\u001b[0;31mIndexError\u001b[0m: index 3 is out of bounds for axis 0 with size 3"
     ]
    }
   ],
   "source": [
    "for x in z:\n",
    "    l=len(x)\n",
    "    for i in range(l):\n",
    "        for j in range(0,l+1):\n",
    "            print(z[i][j])"
   ]
  },
  {
   "cell_type": "code",
   "execution_count": 75,
   "id": "cd24b77e",
   "metadata": {},
   "outputs": [
    {
     "name": "stdout",
     "output_type": "stream",
     "text": [
      "43\n",
      "56\n",
      "81\n"
     ]
    }
   ],
   "source": [
    "for a in x:\n",
    "    print(a)"
   ]
  },
  {
   "cell_type": "markdown",
   "id": "b1ecc750",
   "metadata": {},
   "source": [
    "### Array Join"
   ]
  },
  {
   "cell_type": "code",
   "execution_count": 76,
   "id": "6d1b45cc",
   "metadata": {},
   "outputs": [],
   "source": [
    "ad=np.array([45,55,66,89])"
   ]
  },
  {
   "cell_type": "code",
   "execution_count": 77,
   "id": "f390cdfa",
   "metadata": {},
   "outputs": [],
   "source": [
    "dc=np.array([54,78,90,99])"
   ]
  },
  {
   "cell_type": "code",
   "execution_count": 78,
   "id": "3b13194b",
   "metadata": {},
   "outputs": [
    {
     "data": {
      "text/plain": [
       "array([ 99, 133, 156, 188])"
      ]
     },
     "execution_count": 78,
     "metadata": {},
     "output_type": "execute_result"
    }
   ],
   "source": [
    "ad+dc"
   ]
  },
  {
   "cell_type": "code",
   "execution_count": 79,
   "id": "82352b7e",
   "metadata": {},
   "outputs": [],
   "source": [
    "q=np.concatenate((ad,dc))"
   ]
  },
  {
   "cell_type": "code",
   "execution_count": 80,
   "id": "47fadcc1",
   "metadata": {},
   "outputs": [
    {
     "data": {
      "text/plain": [
       "array([[45, 55, 66, 89],\n",
       "       [54, 78, 90, 99]])"
      ]
     },
     "execution_count": 80,
     "metadata": {},
     "output_type": "execute_result"
    }
   ],
   "source": [
    "np.vstack((ad,dc))"
   ]
  },
  {
   "cell_type": "code",
   "execution_count": 81,
   "id": "e396b6b9",
   "metadata": {},
   "outputs": [
    {
     "data": {
      "text/plain": [
       "array([45, 55, 66, 89, 54, 78, 90, 99])"
      ]
     },
     "execution_count": 81,
     "metadata": {},
     "output_type": "execute_result"
    }
   ],
   "source": [
    "np.hstack((ad,dc))"
   ]
  },
  {
   "cell_type": "code",
   "execution_count": 82,
   "id": "44b95f25",
   "metadata": {},
   "outputs": [
    {
     "data": {
      "text/plain": [
       "array([[[45, 54],\n",
       "        [55, 78],\n",
       "        [66, 90],\n",
       "        [89, 99]]])"
      ]
     },
     "execution_count": 82,
     "metadata": {},
     "output_type": "execute_result"
    }
   ],
   "source": [
    "np.dstack((ad,dc))"
   ]
  },
  {
   "cell_type": "markdown",
   "id": "7eded4f7",
   "metadata": {},
   "source": [
    "### Split"
   ]
  },
  {
   "cell_type": "code",
   "execution_count": 83,
   "id": "3544ef73",
   "metadata": {},
   "outputs": [
    {
     "data": {
      "text/plain": [
       "[array([45]),\n",
       " array([55]),\n",
       " array([66]),\n",
       " array([89]),\n",
       " array([], dtype=int64),\n",
       " array([], dtype=int64)]"
      ]
     },
     "execution_count": 83,
     "metadata": {},
     "output_type": "execute_result"
    }
   ],
   "source": [
    "np.array_split(ad ,6)"
   ]
  },
  {
   "cell_type": "code",
   "execution_count": 85,
   "id": "68bab3bd",
   "metadata": {},
   "outputs": [],
   "source": [
    "ac=np.array(([45,56],[70,90],[66,55],[43,45],[23,22],[54,56]))"
   ]
  },
  {
   "cell_type": "code",
   "execution_count": 86,
   "id": "24280748",
   "metadata": {},
   "outputs": [
    {
     "name": "stdout",
     "output_type": "stream",
     "text": [
      "[[45 56]\n",
      " [70 90]\n",
      " [66 55]\n",
      " [43 45]\n",
      " [23 22]\n",
      " [54 56]]\n"
     ]
    }
   ],
   "source": [
    "print(ac)"
   ]
  },
  {
   "cell_type": "code",
   "execution_count": 87,
   "id": "daf88dc9",
   "metadata": {},
   "outputs": [
    {
     "data": {
      "text/plain": [
       "[array([[45],\n",
       "        [70],\n",
       "        [66],\n",
       "        [43],\n",
       "        [23],\n",
       "        [54]]),\n",
       " array([[56],\n",
       "        [90],\n",
       "        [55],\n",
       "        [45],\n",
       "        [22],\n",
       "        [56]])]"
      ]
     },
     "execution_count": 87,
     "metadata": {},
     "output_type": "execute_result"
    }
   ],
   "source": [
    "np.hsplit(ac ,2)"
   ]
  },
  {
   "cell_type": "code",
   "execution_count": 88,
   "id": "105c25a2",
   "metadata": {},
   "outputs": [
    {
     "data": {
      "text/plain": [
       "[array([[45, 56],\n",
       "        [70, 90],\n",
       "        [66, 55]]),\n",
       " array([[43, 45],\n",
       "        [23, 22],\n",
       "        [54, 56]])]"
      ]
     },
     "execution_count": 88,
     "metadata": {},
     "output_type": "execute_result"
    }
   ],
   "source": [
    "np.vsplit(ac ,2)"
   ]
  },
  {
   "cell_type": "markdown",
   "id": "60a4ad39",
   "metadata": {},
   "source": [
    "## Numpy Search"
   ]
  },
  {
   "cell_type": "code",
   "execution_count": 89,
   "id": "a8f829e9",
   "metadata": {},
   "outputs": [
    {
     "data": {
      "text/plain": [
       "(array([0, 5]), array([1, 1]))"
      ]
     },
     "execution_count": 89,
     "metadata": {},
     "output_type": "execute_result"
    }
   ],
   "source": [
    "np.where(ac==56)"
   ]
  },
  {
   "cell_type": "code",
   "execution_count": 92,
   "id": "23b99520",
   "metadata": {},
   "outputs": [
    {
     "data": {
      "text/plain": [
       "array([[45, 56],\n",
       "       [70, 90],\n",
       "       [66, 55],\n",
       "       [43, 45],\n",
       "       [23, 22],\n",
       "       [54, 56]])"
      ]
     },
     "execution_count": 92,
     "metadata": {},
     "output_type": "execute_result"
    }
   ],
   "source": [
    "ac"
   ]
  },
  {
   "cell_type": "code",
   "execution_count": 91,
   "id": "b1ff5a3e",
   "metadata": {},
   "outputs": [
    {
     "data": {
      "text/plain": [
       "(array([3]),)"
      ]
     },
     "execution_count": 91,
     "metadata": {},
     "output_type": "execute_result"
    }
   ],
   "source": [
    "np.where(q==89)"
   ]
  },
  {
   "cell_type": "code",
   "execution_count": null,
   "id": "3f0780c2",
   "metadata": {},
   "outputs": [],
   "source": [
    "q"
   ]
  },
  {
   "cell_type": "markdown",
   "id": "f2ffbd1d",
   "metadata": {},
   "source": [
    "## Sort"
   ]
  },
  {
   "cell_type": "code",
   "execution_count": 93,
   "id": "960a90cd",
   "metadata": {},
   "outputs": [
    {
     "data": {
      "text/plain": [
       "array([45, 54, 55, 66, 78, 89, 90, 99])"
      ]
     },
     "execution_count": 93,
     "metadata": {},
     "output_type": "execute_result"
    }
   ],
   "source": [
    "np.sort(q)"
   ]
  },
  {
   "cell_type": "code",
   "execution_count": 94,
   "id": "0d3e4de6",
   "metadata": {},
   "outputs": [
    {
     "data": {
      "text/plain": [
       "array([45, 55, 66, 89, 54, 78, 90, 99])"
      ]
     },
     "execution_count": 94,
     "metadata": {},
     "output_type": "execute_result"
    }
   ],
   "source": [
    "q"
   ]
  },
  {
   "cell_type": "code",
   "execution_count": 95,
   "id": "ce183071",
   "metadata": {},
   "outputs": [
    {
     "data": {
      "text/plain": [
       "array([ 9. , 11. , 13.2, 17.8, 10.8, 15.6, 18. , 19.8])"
      ]
     },
     "execution_count": 95,
     "metadata": {},
     "output_type": "execute_result"
    }
   ],
   "source": [
    "q/5"
   ]
  },
  {
   "cell_type": "code",
   "execution_count": null,
   "id": "75916031",
   "metadata": {},
   "outputs": [],
   "source": []
  },
  {
   "cell_type": "code",
   "execution_count": null,
   "id": "015b537f",
   "metadata": {},
   "outputs": [],
   "source": []
  }
 ],
 "metadata": {
  "kernelspec": {
   "display_name": "Python 3 (ipykernel)",
   "language": "python",
   "name": "python3"
  },
  "language_info": {
   "codemirror_mode": {
    "name": "ipython",
    "version": 3
   },
   "file_extension": ".py",
   "mimetype": "text/x-python",
   "name": "python",
   "nbconvert_exporter": "python",
   "pygments_lexer": "ipython3",
   "version": "3.11.4"
  }
 },
 "nbformat": 4,
 "nbformat_minor": 5
}

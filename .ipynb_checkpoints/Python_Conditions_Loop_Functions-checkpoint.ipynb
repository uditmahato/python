{
 "cells": [
  {
   "cell_type": "markdown",
   "id": "4fc48169",
   "metadata": {},
   "source": [
    "# Conditions"
   ]
  },
  {
   "cell_type": "code",
   "execution_count": 5,
   "id": "0136216a",
   "metadata": {},
   "outputs": [
    {
     "name": "stdout",
     "output_type": "stream",
     "text": [
      "No need to take umbrella\n"
     ]
    }
   ],
   "source": [
    "rain=False\n",
    "\n",
    "if rain==True:\n",
    "    print('Take Umprella')\n",
    "else:\n",
    "    print('No need to take umbrella')"
   ]
  },
  {
   "cell_type": "code",
   "execution_count": 9,
   "id": "8bb0d16b",
   "metadata": {},
   "outputs": [],
   "source": [
    "Marks=70\n",
    "if Marks>90:\n",
    "    print('You have got grade A')"
   ]
  },
  {
   "cell_type": "code",
   "execution_count": 10,
   "id": "11f4a2fd",
   "metadata": {},
   "outputs": [
    {
     "name": "stdout",
     "output_type": "stream",
     "text": [
      "You have got grade B\n"
     ]
    }
   ],
   "source": [
    "Marks=70\n",
    "if Marks>90:\n",
    "    print('You have got grade A+')\n",
    "elif Marks>80:\n",
    "    print('You have got grade A')\n",
    "elif Marks>70:\n",
    "    print('You have got grade B+')\n",
    "elif Marks>60:\n",
    "    print('You have got grade B')\n",
    "elif Marks>50:\n",
    "    print('You have got grade C')\n",
    "elif Marks>40:\n",
    "    print('You have got grade C+')\n",
    "else:\n",
    "    print('You have got F grade ')"
   ]
  },
  {
   "cell_type": "code",
   "execution_count": 16,
   "id": "91893957",
   "metadata": {},
   "outputs": [
    {
     "name": "stdout",
     "output_type": "stream",
     "text": [
      "Enter your mark of the Subject 80\n",
      "You have got grade B+\n"
     ]
    }
   ],
   "source": [
    "Marks=int(input('Enter your mark of the Subject '))\n",
    "if Marks>90:\n",
    "    print('You have got grade A+')\n",
    "elif Marks>80:\n",
    "    print('You have got grade A')\n",
    "elif Marks>70:\n",
    "    print('You have got grade B+')\n",
    "elif Marks>60:\n",
    "    print('You have got grade B')\n",
    "elif Marks>50:\n",
    "    print('You have got grade C')\n",
    "elif Marks>40:\n",
    "    print('You have got grade C+')\n",
    "else:\n",
    "    print('You have got F grade ')"
   ]
  },
  {
   "cell_type": "code",
   "execution_count": 14,
   "id": "08c18bea",
   "metadata": {},
   "outputs": [
    {
     "data": {
      "text/plain": [
       "str"
      ]
     },
     "execution_count": 14,
     "metadata": {},
     "output_type": "execute_result"
    }
   ],
   "source": [
    "type(Marks)"
   ]
  },
  {
   "cell_type": "code",
   "execution_count": 7,
   "id": "ec8cee16",
   "metadata": {
    "scrolled": true
   },
   "outputs": [
    {
     "name": "stdout",
     "output_type": "stream",
     "text": [
      "Enter your choice :\n",
      "Add or + \n",
      "Subtract or -\n",
      "Multiply or *\n",
      "Divide or /\n",
      "\n",
      "Multiply\n",
      "Input your First Number: 67\n",
      "Input your Second Number: 80\n",
      "Wrong Operation , Please try again\n"
     ]
    }
   ],
   "source": [
    "a_user=input('Enter your choice :\\nAdd or + \\nSubtract or -\\nMultiply or *\\nDivide or /\\n\\n')\n",
    "a=int(input('Input your First Number: '))\n",
    "b=int(input('Input your Second Number: '))\n",
    "if a_user=='Divide' or a_user=='/' or a_user=='D':\n",
    "    result=a/b\n",
    "    print(result)\n",
    "elif a_user=='add' or a_user=='+' or a_user=='a':\n",
    "    result=a+b\n",
    "    print(result)\n",
    "elif a_user=='subtract' or a_user=='-' or a_user=='s':\n",
    "    result=a-b\n",
    "    print(result)\n",
    "elif a_user=='multiply' or a_user=='*' or a_user=='m':\n",
    "    result=a*b\n",
    "    print(result)\n",
    "else:\n",
    "    print('Wrong Operation , Please try again')"
   ]
  },
  {
   "cell_type": "code",
   "execution_count": null,
   "id": "483a631a",
   "metadata": {},
   "outputs": [],
   "source": []
  }
 ],
 "metadata": {
  "kernelspec": {
   "display_name": "Python 3 (ipykernel)",
   "language": "python",
   "name": "python3"
  },
  "language_info": {
   "codemirror_mode": {
    "name": "ipython",
    "version": 3
   },
   "file_extension": ".py",
   "mimetype": "text/x-python",
   "name": "python",
   "nbconvert_exporter": "python",
   "pygments_lexer": "ipython3",
   "version": "3.11.4"
  }
 },
 "nbformat": 4,
 "nbformat_minor": 5
}

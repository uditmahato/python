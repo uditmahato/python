{
 "cells": [
  {
   "cell_type": "code",
   "execution_count": 5,
   "id": "a6eb0eaf",
   "metadata": {},
   "outputs": [
    {
     "name": "stdout",
     "output_type": "stream",
     "text": [
      "0 is neither Odd nor Even number\n",
      "1 is an odd number \n",
      "2 is an even number \n",
      "3 is an odd number \n",
      "4 is an even number \n",
      "5 is an odd number \n",
      "6 is an even number \n",
      "7 is an odd number \n",
      "8 is an even number \n",
      "9 is an odd number \n",
      "10 is an even number \n",
      "11 is an odd number \n",
      "12 is an even number \n",
      "13 is an odd number \n",
      "14 is an even number \n",
      "15 is an odd number \n",
      "16 is an even number \n",
      "17 is an odd number \n",
      "18 is an even number \n",
      "19 is an odd number \n",
      "20 is an even number \n",
      "21 is an odd number \n",
      "22 is an even number \n",
      "23 is an odd number \n",
      "24 is an even number \n",
      "25 is an odd number \n",
      "26 is an even number \n",
      "27 is an odd number \n",
      "28 is an even number \n",
      "29 is an odd number \n",
      "30 is an even number \n",
      "31 is an odd number \n",
      "32 is an even number \n",
      "33 is an odd number \n",
      "34 is an even number \n",
      "35 is an odd number \n",
      "36 is an even number \n",
      "37 is an odd number \n",
      "38 is an even number \n",
      "39 is an odd number \n",
      "40 is an even number \n",
      "41 is an odd number \n",
      "42 is an even number \n",
      "43 is an odd number \n",
      "44 is an even number \n",
      "45 is an odd number \n",
      "46 is an even number \n",
      "47 is an odd number \n",
      "48 is an even number \n",
      "49 is an odd number \n"
     ]
    }
   ],
   "source": [
    "a=0\n",
    "while a<50:\n",
    "    if a==0:\n",
    "        print(f'{a} is neither Odd nor Even number')\n",
    "        a+=1\n",
    "    elif a%2==0:\n",
    "        print(f'{a} is an even number ')\n",
    "        a+=1\n",
    "    else:\n",
    "        print(f'{a} is an odd number ')\n",
    "        a+=1"
   ]
  },
  {
   "cell_type": "code",
   "execution_count": 14,
   "id": "0e985fea",
   "metadata": {
    "scrolled": true
   },
   "outputs": [
    {
     "name": "stdout",
     "output_type": "stream",
     "text": [
      "The total bill is 399\n",
      "The everage of Money Spent is 79.8\n"
     ]
    }
   ],
   "source": [
    "bill=[45,66,78,90,120]\n",
    "total_bill=0\n",
    "for a in bill:\n",
    "    total_bill+=a\n",
    "print(f'The total bill is {total_bill}')\n",
    "print(f'The everage of Money Spent is {total_bill/len(bill)}')"
   ]
  },
  {
   "cell_type": "markdown",
   "id": "929ffaa8",
   "metadata": {},
   "source": [
    "#### 1. Sum of N Natural Numbers (For Loop)\n",
    "Write a Python program to calculate the sum of the first n natural numbers using a for loop. Example: Input: 5 Output: 15"
   ]
  },
  {
   "cell_type": "code",
   "execution_count": 19,
   "id": "ef619c3a",
   "metadata": {},
   "outputs": [
    {
     "name": "stdout",
     "output_type": "stream",
     "text": [
      "Enter the number till which you want the Sum40\n",
      "The sum of the number 40 is 820\n"
     ]
    }
   ],
   "source": [
    "num=int(input('Enter the number till which you want the Sum'))\n",
    "sum=0\n",
    "for i in range(num+1):\n",
    "    sum=sum+i\n",
    "print(f'The sum of the number {num} is {sum}')"
   ]
  },
  {
   "cell_type": "markdown",
   "id": "ed2cf74e",
   "metadata": {},
   "source": [
    "#### 2. Factorial Calculation (While Loop)\n",
    "Write a Python program to find the factorial of a given number using a while loop. Example: Input: 4 Output: 24"
   ]
  },
  {
   "cell_type": "code",
   "execution_count": 24,
   "id": "a7f9bfc3",
   "metadata": {},
   "outputs": [
    {
     "name": "stdout",
     "output_type": "stream",
     "text": [
      "Enter the number till which you want the Factorial: 50\n",
      "30414093201713378043612608166064768844377641568960512000000000000\n"
     ]
    }
   ],
   "source": [
    "num1=int(input('Enter the number till which you want the Factorial: '))\n",
    "factorial=1\n",
    "for i in range(1,num1+1):\n",
    "    factorial=factorial*i\n",
    "print(factorial)"
   ]
  },
  {
   "cell_type": "markdown",
   "id": "bdc2d52b",
   "metadata": {},
   "source": [
    "#### 4. Reverse a String (While Loop)\n",
    "Write a Python program that reverses a given string using a while loop. Example: Input: \"hello\" Output: \"olleh\""
   ]
  },
  {
   "cell_type": "code",
   "execution_count": 28,
   "id": "782df063",
   "metadata": {},
   "outputs": [
    {
     "name": "stdout",
     "output_type": "stream",
     "text": [
      "Enter the String that You want to reverse : hello\n",
      "olleh\n"
     ]
    }
   ],
   "source": [
    "# For Loop\n",
    "string=input('Enter the String that You want to reverse : ')\n",
    "e_str=\"\"\n",
    "for i in string:\n",
    "    e_str=i+e_str\n",
    "print(e_str)"
   ]
  },
  {
   "cell_type": "code",
   "execution_count": 3,
   "id": "39eb0d11",
   "metadata": {},
   "outputs": [
    {
     "name": "stdout",
     "output_type": "stream",
     "text": [
      "Enter the String that You want to reverse : udit\n",
      "tidu\n"
     ]
    }
   ],
   "source": [
    "# While Loop\n",
    "string=input('Enter the String that You want to reverse : ')\n",
    "e_str=\"\"\n",
    "a=0\n",
    "while a<len(string):\n",
    "    e_str=string[a]+e_str\n",
    "    a=a+1\n",
    "print(e_str)"
   ]
  },
  {
   "cell_type": "markdown",
   "id": "9c62ba91",
   "metadata": {},
   "source": [
    "## Break and Continue"
   ]
  },
  {
   "cell_type": "code",
   "execution_count": 1,
   "id": "5562b419",
   "metadata": {},
   "outputs": [
    {
     "name": "stdout",
     "output_type": "stream",
     "text": [
      "0\n",
      "1\n",
      "2\n"
     ]
    }
   ],
   "source": [
    "a=0\n",
    "while a<10:\n",
    "    if a==3:\n",
    "        break\n",
    "    else:\n",
    "        print(f'{a}')\n",
    "        a+=1"
   ]
  },
  {
   "cell_type": "code",
   "execution_count": null,
   "id": "37d5c668",
   "metadata": {},
   "outputs": [
    {
     "name": "stdout",
     "output_type": "stream",
     "text": [
      "0\n",
      "1\n",
      "2\n"
     ]
    }
   ],
   "source": [
    "a=0\n",
    "while a<10:\n",
    "    if a==3:\n",
    "        a+=1\n",
    "        continue\n",
    "       \n",
    "    else:\n",
    "        print(f'{a}')\n",
    "        a+=1\n"
   ]
  },
  {
   "cell_type": "code",
   "execution_count": null,
   "id": "3a1fdc5a",
   "metadata": {},
   "outputs": [],
   "source": []
  }
 ],
 "metadata": {
  "kernelspec": {
   "display_name": "Python 3 (ipykernel)",
   "language": "python",
   "name": "python3"
  },
  "language_info": {
   "codemirror_mode": {
    "name": "ipython",
    "version": 3
   },
   "file_extension": ".py",
   "mimetype": "text/x-python",
   "name": "python",
   "nbconvert_exporter": "python",
   "pygments_lexer": "ipython3",
   "version": "3.11.4"
  }
 },
 "nbformat": 4,
 "nbformat_minor": 5
}

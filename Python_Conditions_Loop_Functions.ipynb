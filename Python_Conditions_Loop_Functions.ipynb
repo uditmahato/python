{
 "cells": [
  {
   "cell_type": "markdown",
   "id": "78733c24",
   "metadata": {},
   "source": [
    "# Conditions"
   ]
  },
  {
   "cell_type": "code",
   "execution_count": 5,
   "id": "9d956db7",
   "metadata": {},
   "outputs": [
    {
     "name": "stdout",
     "output_type": "stream",
     "text": [
      "No need to take umbrella\n"
     ]
    }
   ],
   "source": [
    "rain=False\n",
    "\n",
    "if rain==True:\n",
    "    print('Take Umprella')\n",
    "else:\n",
    "    print('No need to take umbrella')"
   ]
  },
  {
   "cell_type": "code",
   "execution_count": 6,
   "id": "a8d18952",
   "metadata": {},
   "outputs": [],
   "source": [
    "Marks=70\n",
    "if Marks>90:\n",
    "    print('You have got grade A')"
   ]
  },
  {
   "cell_type": "code",
   "execution_count": 7,
   "id": "eefd6077",
   "metadata": {},
   "outputs": [
    {
     "name": "stdout",
     "output_type": "stream",
     "text": [
      "You have got grade B\n"
     ]
    }
   ],
   "source": [
    "Marks=70\n",
    "if Marks>90:\n",
    "    print('You have got grade A+')\n",
    "elif Marks>80:\n",
    "    print('You have got grade A')\n",
    "elif Marks>70:\n",
    "    print('You have got grade B+')\n",
    "elif Marks>60:\n",
    "    print('You have got grade B')\n",
    "elif Marks>50:\n",
    "    print('You have got grade C')\n",
    "elif Marks>40:\n",
    "    print('You have got grade C+')\n",
    "else:\n",
    "    print('You have got F grade ')"
   ]
  },
  {
   "cell_type": "code",
   "execution_count": 8,
   "id": "5cd1b7b6",
   "metadata": {},
   "outputs": [
    {
     "name": "stdout",
     "output_type": "stream",
     "text": [
      "Enter your mark of the Subject 76437\n",
      "You have got grade A+\n"
     ]
    }
   ],
   "source": [
    "Marks=int(input('Enter your mark of the Subject '))\n",
    "if Marks>90:\n",
    "    print('You have got grade A+')\n",
    "elif Marks>80:\n",
    "    print('You have got grade A')\n",
    "elif Marks>70:\n",
    "    print('You have got grade B+')\n",
    "elif Marks>60:\n",
    "    print('You have got grade B')\n",
    "elif Marks>50:\n",
    "    print('You have got grade C')\n",
    "elif Marks>40:\n",
    "    print('You have got grade C+')\n",
    "else:\n",
    "    print('You have got F grade ')"
   ]
  },
  {
   "cell_type": "code",
   "execution_count": 9,
   "id": "05d6a92e",
   "metadata": {},
   "outputs": [
    {
     "data": {
      "text/plain": [
       "int"
      ]
     },
     "execution_count": 9,
     "metadata": {},
     "output_type": "execute_result"
    }
   ],
   "source": [
    "type(Marks)"
   ]
  },
  {
   "cell_type": "code",
   "execution_count": 11,
   "id": "d43522ed",
   "metadata": {
    "scrolled": true
   },
   "outputs": [
    {
     "name": "stdout",
     "output_type": "stream",
     "text": [
      "Enter your choice :\n",
      "Add or + \n",
      "Subtract or -\n",
      "Multiply or *\n",
      "Divide or /\n",
      "\n",
      "+\n",
      "Input your First Number: 70\n",
      "Input your Second Number: 60\n",
      "130\n"
     ]
    }
   ],
   "source": [
    "a_user=input('Enter your choice :\\nAdd or + \\nSubtract or -\\nMultiply or *\\nDivide or /\\n\\n').lower()\n",
    "a=int(input('Input your First Number: '))\n",
    "b=int(input('Input your Second Number: '))\n",
    "if a_user=='Divide' or a_user=='/' or a_user=='D':\n",
    "    result=a/b\n",
    "    print(result)\n",
    "elif a_user=='add' or a_user=='+' or a_user=='a':\n",
    "    result=a+b\n",
    "    print(result)\n",
    "elif a_user=='subtract' or a_user=='-' or a_user=='s':\n",
    "    result=a-b\n",
    "    \n",
    "    print(result)\n",
    "elif a_user=='multiply' or a_user=='*' or a_user=='m':\n",
    "    result=a*b\n",
    "    print(result)\n",
    "else:\n",
    "    print('Wrong Operation , Please try again')"
   ]
  },
  {
   "cell_type": "markdown",
   "id": "d53a3f27",
   "metadata": {},
   "source": [
    "## Functions"
   ]
  },
  {
   "cell_type": "code",
   "execution_count": 12,
   "id": "921aa5dc",
   "metadata": {},
   "outputs": [],
   "source": [
    "def add():\n",
    "    print('The function is Working')"
   ]
  },
  {
   "cell_type": "code",
   "execution_count": 13,
   "id": "1aa11eca",
   "metadata": {},
   "outputs": [
    {
     "name": "stdout",
     "output_type": "stream",
     "text": [
      "The function is Working\n"
     ]
    }
   ],
   "source": [
    "add()"
   ]
  },
  {
   "cell_type": "code",
   "execution_count": 14,
   "id": "660dabb8",
   "metadata": {},
   "outputs": [],
   "source": [
    "def test(a ,b,c,d,e):\n",
    "    x=a+b-c\n",
    "    y=x+d+e\n",
    "    print(y)"
   ]
  },
  {
   "cell_type": "code",
   "execution_count": 23,
   "id": "be1e2fd1",
   "metadata": {},
   "outputs": [
    {
     "name": "stdout",
     "output_type": "stream",
     "text": [
      "55\n"
     ]
    }
   ],
   "source": [
    "test(45,60,70,10,10)"
   ]
  },
  {
   "cell_type": "code",
   "execution_count": 17,
   "id": "c169881e",
   "metadata": {},
   "outputs": [
    {
     "name": "stdout",
     "output_type": "stream",
     "text": [
      "330\n"
     ]
    }
   ],
   "source": [
    "test(100,200,250,130,150)"
   ]
  },
  {
   "cell_type": "markdown",
   "id": "56afedac",
   "metadata": {},
   "source": [
    "### Argument & Parameter"
   ]
  },
  {
   "cell_type": "code",
   "execution_count": 18,
   "id": "b783e74f",
   "metadata": {},
   "outputs": [],
   "source": [
    "def diff(x,y):\n",
    "    print(x-y)"
   ]
  },
  {
   "cell_type": "code",
   "execution_count": 21,
   "id": "be962837",
   "metadata": {},
   "outputs": [
    {
     "name": "stdout",
     "output_type": "stream",
     "text": [
      "76\n"
     ]
    }
   ],
   "source": [
    "diff(80,4)"
   ]
  },
  {
   "cell_type": "code",
   "execution_count": 27,
   "id": "1a3ad094",
   "metadata": {},
   "outputs": [],
   "source": [
    "def test(*val):\n",
    "    print(val[0])\n",
    "    print(val[1])\n",
    "    print(val[2])"
   ]
  },
  {
   "cell_type": "code",
   "execution_count": 70,
   "id": "2136b9e1",
   "metadata": {},
   "outputs": [
    {
     "name": "stdout",
     "output_type": "stream",
     "text": [
      "1\n",
      "2\n",
      "4\n",
      "5\n",
      "6\n",
      "7\n",
      "8\n"
     ]
    }
   ],
   "source": [
    "t=(1,2,4,5,6,7,8)\n",
    "for i in t:\n",
    "    print(i)"
   ]
  },
  {
   "cell_type": "code",
   "execution_count": 61,
   "id": "47159b30",
   "metadata": {},
   "outputs": [],
   "source": [
    "def test(*args):\n",
    "    for i in args:\n",
    "        print(i)"
   ]
  },
  {
   "cell_type": "code",
   "execution_count": 63,
   "id": "3db40397",
   "metadata": {},
   "outputs": [
    {
     "name": "stdout",
     "output_type": "stream",
     "text": [
      "455\n",
      "55\n",
      "77\n",
      "83\n",
      "55\n",
      "66\n",
      "77\n",
      "33\n",
      "22\n",
      "100\n"
     ]
    }
   ],
   "source": [
    "test(455,55,77,83,55,66,77,33,22,100)"
   ]
  },
  {
   "cell_type": "code",
   "execution_count": 75,
   "id": "e375f00b",
   "metadata": {},
   "outputs": [
    {
     "name": "stdout",
     "output_type": "stream",
     "text": [
      "The key is name and the value is Udit\n",
      "The key is age and the value is 30\n",
      "The key is city and the value is Butwal\n"
     ]
    }
   ],
   "source": [
    "dic={'name':'Udit','age':30 ,'city':'Butwal'}\n",
    "for i,j in dic.items():\n",
    "    print(f'The key is {i} and the value is {j}' )"
   ]
  },
  {
   "cell_type": "code",
   "execution_count": 76,
   "id": "46caa904",
   "metadata": {},
   "outputs": [],
   "source": [
    "def test(**args):\n",
    "    for i,j in args.items():\n",
    "        print(i)"
   ]
  },
  {
   "cell_type": "code",
   "execution_count": 69,
   "id": "a625ad84",
   "metadata": {},
   "outputs": [
    {
     "name": "stdout",
     "output_type": "stream",
     "text": [
      "name Udit\n",
      "age 27\n",
      "city Kathmandu\n",
      "hobbies Hiking\n"
     ]
    }
   ],
   "source": [
    "test(name='Udit' ,age=27,city='Kathmandu',hobbies='Hiking')"
   ]
  },
  {
   "cell_type": "code",
   "execution_count": 39,
   "id": "9c471e4c",
   "metadata": {},
   "outputs": [],
   "source": [
    "def status(city='Kathmandu' , name='Udit' ,age=27):\n",
    "    print(f'I live in {city}.I am {name} and my age is {age}' )"
   ]
  },
  {
   "cell_type": "code",
   "execution_count": 41,
   "id": "540edfd7",
   "metadata": {},
   "outputs": [
    {
     "name": "stdout",
     "output_type": "stream",
     "text": [
      "I live in Kathmandu.I am Udit and my age is 27\n"
     ]
    }
   ],
   "source": [
    "status()"
   ]
  },
  {
   "cell_type": "code",
   "execution_count": 40,
   "id": "ac2c52dd",
   "metadata": {},
   "outputs": [
    {
     "name": "stdout",
     "output_type": "stream",
     "text": [
      "I live in Birgunj.I am Hari and my age is 27\n"
     ]
    }
   ],
   "source": [
    "status('Birgunj','Hari')"
   ]
  },
  {
   "cell_type": "code",
   "execution_count": 42,
   "id": "bf00419d",
   "metadata": {},
   "outputs": [],
   "source": [
    "def status(city, name,age=27):\n",
    "    print(f'I live in {city}.I am {name} and my age is {age}' )"
   ]
  },
  {
   "cell_type": "code",
   "execution_count": 43,
   "id": "77989360",
   "metadata": {},
   "outputs": [
    {
     "name": "stdout",
     "output_type": "stream",
     "text": [
      "I live in Jhapa.I am Ramu and my age is 27\n"
     ]
    }
   ],
   "source": [
    "status(name='Ramu',city='Jhapa')"
   ]
  },
  {
   "cell_type": "code",
   "execution_count": 79,
   "id": "65809129",
   "metadata": {},
   "outputs": [
    {
     "name": "stdout",
     "output_type": "stream",
     "text": [
      "Enter the Principal Amount in NPR 8000\n",
      "Enter the yearly rate of interest 35\n",
      "Enter the time in year : 3\n",
      "Your interest of the given amount is 8400.0\n"
     ]
    }
   ],
   "source": [
    "#Write a program to calculate the Simple Interest \n",
    "def inte_pro(p,t,r):\n",
    "    i=(p*t*r)/100\n",
    "    print(f'Your interest of the given amount is {i}')\n",
    "\n",
    "p=int(input('Enter the Principal Amount in NPR '))\n",
    "r=int(input('Enter the yearly rate of interest '))\n",
    "t=int(input('Enter the time in year : '))\n",
    "\n",
    "inte_pro(p,t,r)"
   ]
  },
  {
   "cell_type": "code",
   "execution_count": null,
   "id": "83cf4fd2",
   "metadata": {},
   "outputs": [],
   "source": []
  }
 ],
 "metadata": {
  "kernelspec": {
   "display_name": "Python 3 (ipykernel)",
   "language": "python",
   "name": "python3"
  },
  "language_info": {
   "codemirror_mode": {
    "name": "ipython",
    "version": 3
   },
   "file_extension": ".py",
   "mimetype": "text/x-python",
   "name": "python",
   "nbconvert_exporter": "python",
   "pygments_lexer": "ipython3",
   "version": "3.11.4"
  }
 },
 "nbformat": 4,
 "nbformat_minor": 5
}

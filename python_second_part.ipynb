{
 "cells": [
  {
   "cell_type": "code",
   "execution_count": 8,
   "id": "a1ae99c2",
   "metadata": {},
   "outputs": [],
   "source": [
    "a='Egg '"
   ]
  },
  {
   "cell_type": "code",
   "execution_count": 9,
   "id": "c992b9d8",
   "metadata": {},
   "outputs": [
    {
     "name": "stdout",
     "output_type": "stream",
     "text": [
      "Egg Egg \n"
     ]
    }
   ],
   "source": [
    "b=a+a\n",
    "print(b)"
   ]
  },
  {
   "cell_type": "code",
   "execution_count": 10,
   "id": "dbec5392",
   "metadata": {},
   "outputs": [
    {
     "name": "stdout",
     "output_type": "stream",
     "text": [
      "Egg Egg Egg Egg Egg Egg Egg Egg Egg Egg Egg Egg Egg Egg Egg Egg Egg Egg Egg Egg \n"
     ]
    }
   ],
   "source": [
    "c=a*20\n",
    "print(c)"
   ]
  },
  {
   "cell_type": "markdown",
   "id": "832c9599",
   "metadata": {},
   "source": [
    "## List"
   ]
  },
  {
   "cell_type": "code",
   "execution_count": 16,
   "id": "4abd8e47",
   "metadata": {},
   "outputs": [],
   "source": [
    "a=['Ram' ,'Hari', 'Sita' ,'Reeta' , 'Gita ','Ram']"
   ]
  },
  {
   "cell_type": "code",
   "execution_count": 17,
   "id": "00a8f5ac",
   "metadata": {},
   "outputs": [
    {
     "data": {
      "text/plain": [
       "list"
      ]
     },
     "execution_count": 17,
     "metadata": {},
     "output_type": "execute_result"
    }
   ],
   "source": [
    "type(a)"
   ]
  },
  {
   "cell_type": "code",
   "execution_count": 13,
   "id": "60f8df84",
   "metadata": {},
   "outputs": [],
   "source": [
    "##List is Indexed\n",
    "## Elements of List are Changeable\n",
    "##List Allows Duplicates Value"
   ]
  },
  {
   "cell_type": "code",
   "execution_count": 14,
   "id": "b820d5b6",
   "metadata": {},
   "outputs": [
    {
     "data": {
      "text/plain": [
       "'Ram'"
      ]
     },
     "execution_count": 14,
     "metadata": {},
     "output_type": "execute_result"
    }
   ],
   "source": [
    "a[0]"
   ]
  },
  {
   "cell_type": "code",
   "execution_count": 15,
   "id": "6a704525",
   "metadata": {},
   "outputs": [
    {
     "data": {
      "text/plain": [
       "'Gita '"
      ]
     },
     "execution_count": 15,
     "metadata": {},
     "output_type": "execute_result"
    }
   ],
   "source": [
    "a[-1]"
   ]
  },
  {
   "cell_type": "code",
   "execution_count": 18,
   "id": "3c7c0917",
   "metadata": {},
   "outputs": [
    {
     "data": {
      "text/plain": [
       "['Ram', 'Hari', 'Sita', 'Reeta', 'Gita ', 'Ram']"
      ]
     },
     "execution_count": 18,
     "metadata": {},
     "output_type": "execute_result"
    }
   ],
   "source": [
    "a"
   ]
  },
  {
   "cell_type": "code",
   "execution_count": 20,
   "id": "2e713073",
   "metadata": {},
   "outputs": [
    {
     "data": {
      "text/plain": [
       "6"
      ]
     },
     "execution_count": 20,
     "metadata": {},
     "output_type": "execute_result"
    }
   ],
   "source": [
    "len(a) # this helps us to know how many elements are there in the List"
   ]
  },
  {
   "cell_type": "code",
   "execution_count": 21,
   "id": "1e143edd",
   "metadata": {},
   "outputs": [],
   "source": [
    "#List can have different Data Types\n",
    "b=['Hello',2,False , 'Module' ,True , 55,60.0]"
   ]
  },
  {
   "cell_type": "code",
   "execution_count": 22,
   "id": "f9b44d2b",
   "metadata": {},
   "outputs": [
    {
     "data": {
      "text/plain": [
       "['Hello', 2, False, 'Module', True, 55, 60.0]"
      ]
     },
     "execution_count": 22,
     "metadata": {},
     "output_type": "execute_result"
    }
   ],
   "source": [
    "b"
   ]
  },
  {
   "cell_type": "code",
   "execution_count": 24,
   "id": "d9f8e749",
   "metadata": {},
   "outputs": [],
   "source": [
    "#List can be created in another way\n",
    "c=list(('Hello',2,False , 'Module' ,True , 55,60.0))"
   ]
  },
  {
   "cell_type": "code",
   "execution_count": 25,
   "id": "91c41a9b",
   "metadata": {},
   "outputs": [
    {
     "data": {
      "text/plain": [
       "['Hello', 2, False, 'Module', True, 55, 60.0]"
      ]
     },
     "execution_count": 25,
     "metadata": {},
     "output_type": "execute_result"
    }
   ],
   "source": [
    "c"
   ]
  },
  {
   "cell_type": "code",
   "execution_count": 26,
   "id": "43ed38c6",
   "metadata": {},
   "outputs": [
    {
     "data": {
      "text/plain": [
       "list"
      ]
     },
     "execution_count": 26,
     "metadata": {},
     "output_type": "execute_result"
    }
   ],
   "source": [
    "type(c)"
   ]
  },
  {
   "cell_type": "markdown",
   "id": "969f1321",
   "metadata": {},
   "source": [
    "###  Items of List Can be accessed"
   ]
  },
  {
   "cell_type": "code",
   "execution_count": 27,
   "id": "1ab1599b",
   "metadata": {},
   "outputs": [
    {
     "data": {
      "text/plain": [
       "2"
      ]
     },
     "execution_count": 27,
     "metadata": {},
     "output_type": "execute_result"
    }
   ],
   "source": [
    "c[1]"
   ]
  },
  {
   "cell_type": "code",
   "execution_count": 29,
   "id": "6b88bf92",
   "metadata": {},
   "outputs": [
    {
     "data": {
      "text/plain": [
       "True"
      ]
     },
     "execution_count": 29,
     "metadata": {},
     "output_type": "execute_result"
    }
   ],
   "source": [
    "c[-3]"
   ]
  },
  {
   "cell_type": "code",
   "execution_count": 33,
   "id": "aad1ee7f",
   "metadata": {},
   "outputs": [
    {
     "data": {
      "text/plain": [
       "['Module', True]"
      ]
     },
     "execution_count": 33,
     "metadata": {},
     "output_type": "execute_result"
    }
   ],
   "source": [
    "c[3:-2]"
   ]
  },
  {
   "cell_type": "code",
   "execution_count": 34,
   "id": "22b6d804",
   "metadata": {},
   "outputs": [],
   "source": [
    "ad=100"
   ]
  },
  {
   "cell_type": "code",
   "execution_count": 37,
   "id": "116fd397",
   "metadata": {},
   "outputs": [],
   "source": [
    "sum=ad+c[1]"
   ]
  },
  {
   "cell_type": "code",
   "execution_count": 38,
   "id": "73dee007",
   "metadata": {},
   "outputs": [
    {
     "data": {
      "text/plain": [
       "102"
      ]
     },
     "execution_count": 38,
     "metadata": {},
     "output_type": "execute_result"
    }
   ],
   "source": [
    "sum"
   ]
  },
  {
   "cell_type": "code",
   "execution_count": 39,
   "id": "013c3527",
   "metadata": {},
   "outputs": [],
   "source": [
    "##Elements of List can be changed"
   ]
  },
  {
   "cell_type": "code",
   "execution_count": 40,
   "id": "d6a39b0c",
   "metadata": {},
   "outputs": [],
   "source": [
    "c[1]='Fox'"
   ]
  },
  {
   "cell_type": "code",
   "execution_count": 41,
   "id": "6c03010c",
   "metadata": {},
   "outputs": [
    {
     "data": {
      "text/plain": [
       "['Hello', 'Fox', False, 'Module', True, 55, 60.0]"
      ]
     },
     "execution_count": 41,
     "metadata": {},
     "output_type": "execute_result"
    }
   ],
   "source": [
    "c"
   ]
  },
  {
   "cell_type": "code",
   "execution_count": 45,
   "id": "4bc1898a",
   "metadata": {},
   "outputs": [],
   "source": [
    "c[1:4]=['OTB', False ,'Kathmandu' ,20, 50]"
   ]
  },
  {
   "cell_type": "code",
   "execution_count": 46,
   "id": "607f2426",
   "metadata": {
    "scrolled": true
   },
   "outputs": [
    {
     "data": {
      "text/plain": [
       "['Hello', 'OTB', False, 'Kathmandu', 20, 50, 20, True, 55, 60.0]"
      ]
     },
     "execution_count": 46,
     "metadata": {},
     "output_type": "execute_result"
    }
   ],
   "source": [
    "c"
   ]
  },
  {
   "cell_type": "code",
   "execution_count": 49,
   "id": "747972da",
   "metadata": {},
   "outputs": [],
   "source": [
    "c[4:5]=['OTB', False ,'Kathmandu' ,20, 50]"
   ]
  },
  {
   "cell_type": "code",
   "execution_count": 50,
   "id": "01b76b2d",
   "metadata": {},
   "outputs": [
    {
     "data": {
      "text/plain": [
       "['Hello',\n",
       " 'OTB',\n",
       " False,\n",
       " 'Kathmandu',\n",
       " 'OTB',\n",
       " False,\n",
       " 'Kathmandu',\n",
       " 20,\n",
       " 50,\n",
       " 50,\n",
       " 20,\n",
       " True,\n",
       " 55,\n",
       " 60.0]"
      ]
     },
     "execution_count": 50,
     "metadata": {},
     "output_type": "execute_result"
    }
   ],
   "source": [
    "c"
   ]
  },
  {
   "cell_type": "code",
   "execution_count": 51,
   "id": "2b17e520",
   "metadata": {},
   "outputs": [],
   "source": [
    "c.insert(4,'Nepal')"
   ]
  },
  {
   "cell_type": "code",
   "execution_count": 52,
   "id": "8ecae0db",
   "metadata": {},
   "outputs": [
    {
     "data": {
      "text/plain": [
       "['Hello',\n",
       " 'OTB',\n",
       " False,\n",
       " 'Kathmandu',\n",
       " 'Nepal',\n",
       " 'OTB',\n",
       " False,\n",
       " 'Kathmandu',\n",
       " 20,\n",
       " 50,\n",
       " 50,\n",
       " 20,\n",
       " True,\n",
       " 55,\n",
       " 60.0]"
      ]
     },
     "execution_count": 52,
     "metadata": {},
     "output_type": "execute_result"
    }
   ],
   "source": [
    "c"
   ]
  },
  {
   "cell_type": "code",
   "execution_count": 53,
   "id": "4f38b731",
   "metadata": {},
   "outputs": [],
   "source": [
    "c.append('France')"
   ]
  },
  {
   "cell_type": "code",
   "execution_count": 54,
   "id": "e0ccae90",
   "metadata": {},
   "outputs": [
    {
     "data": {
      "text/plain": [
       "['Hello',\n",
       " 'OTB',\n",
       " False,\n",
       " 'Kathmandu',\n",
       " 'Nepal',\n",
       " 'OTB',\n",
       " False,\n",
       " 'Kathmandu',\n",
       " 20,\n",
       " 50,\n",
       " 50,\n",
       " 20,\n",
       " True,\n",
       " 55,\n",
       " 60.0,\n",
       " 'France']"
      ]
     },
     "execution_count": 54,
     "metadata": {},
     "output_type": "execute_result"
    }
   ],
   "source": [
    "c"
   ]
  },
  {
   "cell_type": "code",
   "execution_count": 57,
   "id": "2c5d6791",
   "metadata": {},
   "outputs": [],
   "source": [
    "c.extend(['Russia' ,'Usa'])"
   ]
  },
  {
   "cell_type": "code",
   "execution_count": 58,
   "id": "ae210368",
   "metadata": {},
   "outputs": [
    {
     "data": {
      "text/plain": [
       "['Hello',\n",
       " 'OTB',\n",
       " False,\n",
       " 'Kathmandu',\n",
       " 'Nepal',\n",
       " 'OTB',\n",
       " False,\n",
       " 'Kathmandu',\n",
       " 20,\n",
       " 50,\n",
       " 50,\n",
       " 20,\n",
       " True,\n",
       " 55,\n",
       " 60.0,\n",
       " 'France',\n",
       " 'Russia',\n",
       " 'Usa']"
      ]
     },
     "execution_count": 58,
     "metadata": {},
     "output_type": "execute_result"
    }
   ],
   "source": [
    "c"
   ]
  },
  {
   "cell_type": "code",
   "execution_count": 59,
   "id": "7c0d6681",
   "metadata": {},
   "outputs": [],
   "source": [
    "c.remove('OTB')"
   ]
  },
  {
   "cell_type": "code",
   "execution_count": 60,
   "id": "d93ddc38",
   "metadata": {},
   "outputs": [
    {
     "data": {
      "text/plain": [
       "['Hello',\n",
       " False,\n",
       " 'Kathmandu',\n",
       " 'Nepal',\n",
       " 'OTB',\n",
       " False,\n",
       " 'Kathmandu',\n",
       " 20,\n",
       " 50,\n",
       " 50,\n",
       " 20,\n",
       " True,\n",
       " 55,\n",
       " 60.0,\n",
       " 'France',\n",
       " 'Russia',\n",
       " 'Usa']"
      ]
     },
     "execution_count": 60,
     "metadata": {},
     "output_type": "execute_result"
    }
   ],
   "source": [
    "c"
   ]
  },
  {
   "cell_type": "code",
   "execution_count": 63,
   "id": "a19d5ad6",
   "metadata": {},
   "outputs": [
    {
     "data": {
      "text/plain": [
       "'Russia'"
      ]
     },
     "execution_count": 63,
     "metadata": {},
     "output_type": "execute_result"
    }
   ],
   "source": [
    "c.pop()"
   ]
  },
  {
   "cell_type": "code",
   "execution_count": 64,
   "id": "4c7d762c",
   "metadata": {},
   "outputs": [
    {
     "data": {
      "text/plain": [
       "['Hello',\n",
       " False,\n",
       " 'Kathmandu',\n",
       " 'Nepal',\n",
       " 'OTB',\n",
       " False,\n",
       " 'Kathmandu',\n",
       " 20,\n",
       " 50,\n",
       " 50,\n",
       " 20,\n",
       " True,\n",
       " 55,\n",
       " 60.0,\n",
       " 'France']"
      ]
     },
     "execution_count": 64,
     "metadata": {},
     "output_type": "execute_result"
    }
   ],
   "source": [
    "c"
   ]
  },
  {
   "cell_type": "code",
   "execution_count": 65,
   "id": "6e80ca97",
   "metadata": {},
   "outputs": [
    {
     "data": {
      "text/plain": [
       "20"
      ]
     },
     "execution_count": 65,
     "metadata": {},
     "output_type": "execute_result"
    }
   ],
   "source": [
    "c.pop(7)"
   ]
  },
  {
   "cell_type": "code",
   "execution_count": 66,
   "id": "df691c85",
   "metadata": {},
   "outputs": [
    {
     "data": {
      "text/plain": [
       "['Hello',\n",
       " False,\n",
       " 'Kathmandu',\n",
       " 'Nepal',\n",
       " 'OTB',\n",
       " False,\n",
       " 'Kathmandu',\n",
       " 50,\n",
       " 50,\n",
       " 20,\n",
       " True,\n",
       " 55,\n",
       " 60.0,\n",
       " 'France']"
      ]
     },
     "execution_count": 66,
     "metadata": {},
     "output_type": "execute_result"
    }
   ],
   "source": [
    "c"
   ]
  },
  {
   "cell_type": "code",
   "execution_count": 67,
   "id": "13e04760",
   "metadata": {},
   "outputs": [],
   "source": [
    "del c[6]"
   ]
  },
  {
   "cell_type": "code",
   "execution_count": 68,
   "id": "1b73f82d",
   "metadata": {},
   "outputs": [
    {
     "data": {
      "text/plain": [
       "['Hello',\n",
       " False,\n",
       " 'Kathmandu',\n",
       " 'Nepal',\n",
       " 'OTB',\n",
       " False,\n",
       " 50,\n",
       " 50,\n",
       " 20,\n",
       " True,\n",
       " 55,\n",
       " 60.0,\n",
       " 'France']"
      ]
     },
     "execution_count": 68,
     "metadata": {},
     "output_type": "execute_result"
    }
   ],
   "source": [
    "c"
   ]
  },
  {
   "cell_type": "code",
   "execution_count": 69,
   "id": "8d121a7f",
   "metadata": {},
   "outputs": [
    {
     "data": {
      "text/plain": [
       "['Hello',\n",
       " False,\n",
       " 'Kathmandu',\n",
       " 'Nepal',\n",
       " 'OTB',\n",
       " False,\n",
       " 50,\n",
       " 50,\n",
       " 20,\n",
       " True,\n",
       " 55,\n",
       " 60.0,\n",
       " 'France']"
      ]
     },
     "execution_count": 69,
     "metadata": {},
     "output_type": "execute_result"
    }
   ],
   "source": [
    "c"
   ]
  },
  {
   "cell_type": "code",
   "execution_count": 70,
   "id": "1d944101",
   "metadata": {},
   "outputs": [],
   "source": [
    "d=c"
   ]
  },
  {
   "cell_type": "code",
   "execution_count": 71,
   "id": "7887ad11",
   "metadata": {},
   "outputs": [
    {
     "data": {
      "text/plain": [
       "['Hello',\n",
       " False,\n",
       " 'Kathmandu',\n",
       " 'Nepal',\n",
       " 'OTB',\n",
       " False,\n",
       " 50,\n",
       " 50,\n",
       " 20,\n",
       " True,\n",
       " 55,\n",
       " 60.0,\n",
       " 'France']"
      ]
     },
     "execution_count": 71,
     "metadata": {},
     "output_type": "execute_result"
    }
   ],
   "source": [
    "d"
   ]
  },
  {
   "cell_type": "code",
   "execution_count": 72,
   "id": "9a520da4",
   "metadata": {},
   "outputs": [
    {
     "data": {
      "text/plain": [
       "['Hello',\n",
       " False,\n",
       " 'Kathmandu',\n",
       " 'Nepal',\n",
       " 'OTB',\n",
       " False,\n",
       " 50,\n",
       " 50,\n",
       " 20,\n",
       " True,\n",
       " 55,\n",
       " 60.0,\n",
       " 'France']"
      ]
     },
     "execution_count": 72,
     "metadata": {},
     "output_type": "execute_result"
    }
   ],
   "source": [
    "c"
   ]
  },
  {
   "cell_type": "code",
   "execution_count": 73,
   "id": "f8cc8d71",
   "metadata": {},
   "outputs": [],
   "source": [
    "del c"
   ]
  },
  {
   "cell_type": "code",
   "execution_count": 74,
   "id": "7ebfa4f2",
   "metadata": {},
   "outputs": [
    {
     "ename": "NameError",
     "evalue": "name 'c' is not defined",
     "output_type": "error",
     "traceback": [
      "\u001b[0;31m---------------------------------------------------------------------------\u001b[0m",
      "\u001b[0;31mNameError\u001b[0m                                 Traceback (most recent call last)",
      "Cell \u001b[0;32mIn[74], line 1\u001b[0m\n\u001b[0;32m----> 1\u001b[0m c\n",
      "\u001b[0;31mNameError\u001b[0m: name 'c' is not defined"
     ]
    }
   ],
   "source": [
    "c"
   ]
  },
  {
   "cell_type": "code",
   "execution_count": 75,
   "id": "eec982be",
   "metadata": {},
   "outputs": [],
   "source": [
    "d.clear()"
   ]
  },
  {
   "cell_type": "code",
   "execution_count": 76,
   "id": "057f7e42",
   "metadata": {},
   "outputs": [
    {
     "data": {
      "text/plain": [
       "[]"
      ]
     },
     "execution_count": 76,
     "metadata": {},
     "output_type": "execute_result"
    }
   ],
   "source": [
    "d"
   ]
  },
  {
   "cell_type": "code",
   "execution_count": 86,
   "id": "d6504753",
   "metadata": {},
   "outputs": [],
   "source": [
    "z=['OTB', False ,'Kathmandu' ,20, 50]"
   ]
  },
  {
   "cell_type": "code",
   "execution_count": 78,
   "id": "73210e6a",
   "metadata": {},
   "outputs": [
    {
     "data": {
      "text/plain": [
       "['OTB', False, 'Kathmandu', 20, 50]"
      ]
     },
     "execution_count": 78,
     "metadata": {},
     "output_type": "execute_result"
    }
   ],
   "source": [
    "z"
   ]
  },
  {
   "cell_type": "code",
   "execution_count": 84,
   "id": "de3a6b19",
   "metadata": {},
   "outputs": [
    {
     "name": "stdout",
     "output_type": "stream",
     "text": [
      "OTB\n",
      "False\n",
      "Kathmandu\n",
      "20\n",
      "50\n"
     ]
    }
   ],
   "source": [
    "for z in z:\n",
    "    print(z)"
   ]
  },
  {
   "cell_type": "code",
   "execution_count": 87,
   "id": "3a3c949a",
   "metadata": {},
   "outputs": [
    {
     "ename": "TypeError",
     "evalue": "'<' not supported between instances of 'bool' and 'str'",
     "output_type": "error",
     "traceback": [
      "\u001b[0;31m---------------------------------------------------------------------------\u001b[0m",
      "\u001b[0;31mTypeError\u001b[0m                                 Traceback (most recent call last)",
      "Cell \u001b[0;32mIn[87], line 1\u001b[0m\n\u001b[0;32m----> 1\u001b[0m z\u001b[38;5;241m.\u001b[39msort()\n",
      "\u001b[0;31mTypeError\u001b[0m: '<' not supported between instances of 'bool' and 'str'"
     ]
    }
   ],
   "source": [
    "z.sort()"
   ]
  },
  {
   "cell_type": "code",
   "execution_count": 107,
   "id": "6bbe82bb",
   "metadata": {},
   "outputs": [],
   "source": [
    "j=[322,34,23,5655,54,889,1,333]"
   ]
  },
  {
   "cell_type": "code",
   "execution_count": 108,
   "id": "c02a15de",
   "metadata": {},
   "outputs": [],
   "source": [
    "j.sort(reverse=False)"
   ]
  },
  {
   "cell_type": "code",
   "execution_count": 109,
   "id": "b7c931ff",
   "metadata": {},
   "outputs": [
    {
     "data": {
      "text/plain": [
       "[1, 23, 34, 54, 322, 333, 889, 5655]"
      ]
     },
     "execution_count": 109,
     "metadata": {},
     "output_type": "execute_result"
    }
   ],
   "source": [
    "j"
   ]
  },
  {
   "cell_type": "code",
   "execution_count": 110,
   "id": "f53db2ce",
   "metadata": {},
   "outputs": [],
   "source": [
    "cp=j.copy()"
   ]
  },
  {
   "cell_type": "code",
   "execution_count": 111,
   "id": "377749b6",
   "metadata": {},
   "outputs": [
    {
     "data": {
      "text/plain": [
       "[1, 23, 34, 54, 322, 333, 889, 5655]"
      ]
     },
     "execution_count": 111,
     "metadata": {},
     "output_type": "execute_result"
    }
   ],
   "source": [
    "cp"
   ]
  },
  {
   "cell_type": "code",
   "execution_count": 112,
   "id": "f054d301",
   "metadata": {},
   "outputs": [],
   "source": [
    "cs=j"
   ]
  },
  {
   "cell_type": "code",
   "execution_count": 113,
   "id": "8e263440",
   "metadata": {},
   "outputs": [
    {
     "data": {
      "text/plain": [
       "[1, 23, 34, 54, 322, 333, 889, 5655]"
      ]
     },
     "execution_count": 113,
     "metadata": {},
     "output_type": "execute_result"
    }
   ],
   "source": [
    "cs"
   ]
  },
  {
   "cell_type": "code",
   "execution_count": 114,
   "id": "d8ce5246",
   "metadata": {},
   "outputs": [
    {
     "data": {
      "text/plain": [
       "5655"
      ]
     },
     "execution_count": 114,
     "metadata": {},
     "output_type": "execute_result"
    }
   ],
   "source": [
    "j.pop()"
   ]
  },
  {
   "cell_type": "code",
   "execution_count": 115,
   "id": "9c69fa5d",
   "metadata": {
    "scrolled": true
   },
   "outputs": [
    {
     "data": {
      "text/plain": [
       "[1, 23, 34, 54, 322, 333, 889]"
      ]
     },
     "execution_count": 115,
     "metadata": {},
     "output_type": "execute_result"
    }
   ],
   "source": [
    "cs"
   ]
  },
  {
   "cell_type": "code",
   "execution_count": 124,
   "id": "b88f831e",
   "metadata": {
    "scrolled": false
   },
   "outputs": [
    {
     "data": {
      "text/plain": [
       "[1, 23, 34, 54, 322, 333, 889, 5655]"
      ]
     },
     "execution_count": 124,
     "metadata": {},
     "output_type": "execute_result"
    }
   ],
   "source": [
    "cp"
   ]
  },
  {
   "cell_type": "code",
   "execution_count": 125,
   "id": "0047328c",
   "metadata": {},
   "outputs": [
    {
     "data": {
      "text/plain": [
       "[1,\n",
       " 314847,\n",
       " 34,\n",
       " 54,\n",
       " 322,\n",
       " 333,\n",
       " 889,\n",
       " 1,\n",
       " 23,\n",
       " 34,\n",
       " 54,\n",
       " 322,\n",
       " 333,\n",
       " 889,\n",
       " 5655,\n",
       " 1,\n",
       " 23,\n",
       " 34,\n",
       " 54,\n",
       " 322,\n",
       " 333,\n",
       " 889,\n",
       " 5655]"
      ]
     },
     "execution_count": 125,
     "metadata": {},
     "output_type": "execute_result"
    }
   ],
   "source": [
    "cs+cp"
   ]
  },
  {
   "cell_type": "code",
   "execution_count": 126,
   "id": "a38f9d3b",
   "metadata": {},
   "outputs": [],
   "source": [
    "cs.extend(cp)"
   ]
  },
  {
   "cell_type": "code",
   "execution_count": 127,
   "id": "81ecb8d0",
   "metadata": {},
   "outputs": [
    {
     "data": {
      "text/plain": [
       "[1,\n",
       " 314847,\n",
       " 34,\n",
       " 54,\n",
       " 322,\n",
       " 333,\n",
       " 889,\n",
       " 1,\n",
       " 23,\n",
       " 34,\n",
       " 54,\n",
       " 322,\n",
       " 333,\n",
       " 889,\n",
       " 5655,\n",
       " 1,\n",
       " 23,\n",
       " 34,\n",
       " 54,\n",
       " 322,\n",
       " 333,\n",
       " 889,\n",
       " 5655]"
      ]
     },
     "execution_count": 127,
     "metadata": {},
     "output_type": "execute_result"
    }
   ],
   "source": [
    "cs"
   ]
  },
  {
   "cell_type": "code",
   "execution_count": 129,
   "id": "e8b95142",
   "metadata": {},
   "outputs": [
    {
     "name": "stdout",
     "output_type": "stream",
     "text": [
      "[117, 36837099, 3978, 6318, 37674, 38961, 104013, 117, 2691, 3978, 6318, 37674, 38961, 104013, 661635, 117, 2691, 3978, 6318, 37674, 38961, 104013, 661635]\n"
     ]
    }
   ],
   "source": [
    "npr=[]\n",
    "for i in cs:\n",
    "    npr.append(i*117)\n",
    "print(npr)"
   ]
  },
  {
   "cell_type": "code",
   "execution_count": 130,
   "id": "9d5485ac",
   "metadata": {},
   "outputs": [
    {
     "data": {
      "text/plain": [
       "23"
      ]
     },
     "execution_count": 130,
     "metadata": {},
     "output_type": "execute_result"
    }
   ],
   "source": [
    "len(npr)"
   ]
  },
  {
   "cell_type": "code",
   "execution_count": 133,
   "id": "53c470ed",
   "metadata": {},
   "outputs": [
    {
     "data": {
      "text/plain": [
       "3"
      ]
     },
     "execution_count": 133,
     "metadata": {},
     "output_type": "execute_result"
    }
   ],
   "source": [
    "npr.count(117)"
   ]
  },
  {
   "cell_type": "code",
   "execution_count": 135,
   "id": "384e48e0",
   "metadata": {},
   "outputs": [
    {
     "data": {
      "text/plain": [
       "3"
      ]
     },
     "execution_count": 135,
     "metadata": {},
     "output_type": "execute_result"
    }
   ],
   "source": [
    "npr.index(6318)"
   ]
  },
  {
   "cell_type": "code",
   "execution_count": 136,
   "id": "bfa01e7e",
   "metadata": {},
   "outputs": [],
   "source": [
    "npr.reverse()"
   ]
  },
  {
   "cell_type": "code",
   "execution_count": 137,
   "id": "d31666c8",
   "metadata": {},
   "outputs": [
    {
     "data": {
      "text/plain": [
       "[661635,\n",
       " 104013,\n",
       " 38961,\n",
       " 37674,\n",
       " 6318,\n",
       " 3978,\n",
       " 2691,\n",
       " 117,\n",
       " 661635,\n",
       " 104013,\n",
       " 38961,\n",
       " 37674,\n",
       " 6318,\n",
       " 3978,\n",
       " 2691,\n",
       " 117,\n",
       " 104013,\n",
       " 38961,\n",
       " 37674,\n",
       " 6318,\n",
       " 3978,\n",
       " 36837099,\n",
       " 117]"
      ]
     },
     "execution_count": 137,
     "metadata": {},
     "output_type": "execute_result"
    }
   ],
   "source": [
    "npr"
   ]
  },
  {
   "cell_type": "markdown",
   "id": "8e06e80b",
   "metadata": {},
   "source": [
    "## Tuple"
   ]
  },
  {
   "cell_type": "code",
   "execution_count": 3,
   "id": "1d5a92b3",
   "metadata": {},
   "outputs": [],
   "source": [
    "tup=('Kathmandu', 'Pokhara' , 'Dharan' ,'Kathmandu' , 'Janakpur' , 'Biratnagar')"
   ]
  },
  {
   "cell_type": "code",
   "execution_count": 9,
   "id": "aba8e21b",
   "metadata": {},
   "outputs": [],
   "source": [
    "tup_t=tuple(('Kathmandu', 'Pokhara' , 'Dharan' ,'Kathmandu' , 'Janakpur' , 'Biratnagar'))"
   ]
  },
  {
   "cell_type": "code",
   "execution_count": 10,
   "id": "4b882a25",
   "metadata": {},
   "outputs": [
    {
     "data": {
      "text/plain": [
       "tuple"
      ]
     },
     "execution_count": 10,
     "metadata": {},
     "output_type": "execute_result"
    }
   ],
   "source": [
    "type(tup_t)"
   ]
  },
  {
   "cell_type": "code",
   "execution_count": 13,
   "id": "b3bec581",
   "metadata": {},
   "outputs": [
    {
     "name": "stdout",
     "output_type": "stream",
     "text": [
      "('Kathmandu', 'Pokhara', 'Dharan', 'Kathmandu', 'Janakpur', 'Biratnagar')\n"
     ]
    }
   ],
   "source": [
    "print(tup_t)"
   ]
  },
  {
   "cell_type": "code",
   "execution_count": 15,
   "id": "d939649e",
   "metadata": {},
   "outputs": [
    {
     "data": {
      "text/plain": [
       "6"
      ]
     },
     "execution_count": 15,
     "metadata": {},
     "output_type": "execute_result"
    }
   ],
   "source": [
    "len(tup)"
   ]
  },
  {
   "cell_type": "markdown",
   "id": "cba5a8a5",
   "metadata": {},
   "source": [
    "#### Tuple is indexed"
   ]
  },
  {
   "cell_type": "code",
   "execution_count": 5,
   "id": "a3d97b33",
   "metadata": {},
   "outputs": [
    {
     "data": {
      "text/plain": [
       "'Pokhara'"
      ]
     },
     "execution_count": 5,
     "metadata": {},
     "output_type": "execute_result"
    }
   ],
   "source": [
    "tup[1]"
   ]
  },
  {
   "cell_type": "code",
   "execution_count": 6,
   "id": "37171c74",
   "metadata": {},
   "outputs": [
    {
     "data": {
      "text/plain": [
       "'Janakpur'"
      ]
     },
     "execution_count": 6,
     "metadata": {},
     "output_type": "execute_result"
    }
   ],
   "source": [
    "tup[-2]"
   ]
  },
  {
   "cell_type": "code",
   "execution_count": 17,
   "id": "c8eb13b0",
   "metadata": {},
   "outputs": [
    {
     "data": {
      "text/plain": [
       "('Janakpur', 'Biratnagar')"
      ]
     },
     "execution_count": 17,
     "metadata": {},
     "output_type": "execute_result"
    }
   ],
   "source": [
    "tup[-2:]"
   ]
  },
  {
   "cell_type": "code",
   "execution_count": 19,
   "id": "726b1451",
   "metadata": {},
   "outputs": [
    {
     "name": "stdout",
     "output_type": "stream",
     "text": [
      "Kathmandu\n",
      "Pokhara\n",
      "Dharan\n",
      "Kathmandu\n",
      "Janakpur\n",
      "Biratnagar\n"
     ]
    }
   ],
   "source": [
    "for i in tup:\n",
    "    print(i)"
   ]
  },
  {
   "cell_type": "markdown",
   "id": "daf59a1d",
   "metadata": {},
   "source": [
    "#### Tuple is Immuatble"
   ]
  },
  {
   "cell_type": "code",
   "execution_count": 20,
   "id": "7f87a94c",
   "metadata": {},
   "outputs": [
    {
     "ename": "TypeError",
     "evalue": "'tuple' object does not support item assignment",
     "output_type": "error",
     "traceback": [
      "\u001b[0;31m---------------------------------------------------------------------------\u001b[0m",
      "\u001b[0;31mTypeError\u001b[0m                                 Traceback (most recent call last)",
      "Cell \u001b[0;32mIn[20], line 1\u001b[0m\n\u001b[0;32m----> 1\u001b[0m tup[\u001b[38;5;241m1\u001b[39m]\u001b[38;5;241m=\u001b[39m\u001b[38;5;124m'\u001b[39m\u001b[38;5;124mDhangadhi\u001b[39m\u001b[38;5;124m'\u001b[39m\n",
      "\u001b[0;31mTypeError\u001b[0m: 'tuple' object does not support item assignment"
     ]
    }
   ],
   "source": [
    "tup[1]='Dhangadhi'"
   ]
  },
  {
   "cell_type": "code",
   "execution_count": 21,
   "id": "abc3b600",
   "metadata": {},
   "outputs": [],
   "source": [
    "li=list(tup)"
   ]
  },
  {
   "cell_type": "code",
   "execution_count": 22,
   "id": "8cf06bd2",
   "metadata": {},
   "outputs": [
    {
     "data": {
      "text/plain": [
       "['Kathmandu', 'Pokhara', 'Dharan', 'Kathmandu', 'Janakpur', 'Biratnagar']"
      ]
     },
     "execution_count": 22,
     "metadata": {},
     "output_type": "execute_result"
    }
   ],
   "source": [
    "li"
   ]
  },
  {
   "cell_type": "code",
   "execution_count": 23,
   "id": "5d973905",
   "metadata": {},
   "outputs": [
    {
     "data": {
      "text/plain": [
       "list"
      ]
     },
     "execution_count": 23,
     "metadata": {},
     "output_type": "execute_result"
    }
   ],
   "source": [
    "type(li)"
   ]
  },
  {
   "cell_type": "code",
   "execution_count": 24,
   "id": "3761f431",
   "metadata": {},
   "outputs": [],
   "source": [
    "li.append('Dhangadhi')"
   ]
  },
  {
   "cell_type": "code",
   "execution_count": 25,
   "id": "55f520f0",
   "metadata": {},
   "outputs": [
    {
     "data": {
      "text/plain": [
       "['Kathmandu',\n",
       " 'Pokhara',\n",
       " 'Dharan',\n",
       " 'Kathmandu',\n",
       " 'Janakpur',\n",
       " 'Biratnagar',\n",
       " 'Dhangadhi']"
      ]
     },
     "execution_count": 25,
     "metadata": {},
     "output_type": "execute_result"
    }
   ],
   "source": [
    "li"
   ]
  },
  {
   "cell_type": "code",
   "execution_count": 26,
   "id": "03df3d67",
   "metadata": {},
   "outputs": [],
   "source": [
    "tup=tuple(li)"
   ]
  },
  {
   "cell_type": "code",
   "execution_count": 27,
   "id": "ec4ad6e1",
   "metadata": {},
   "outputs": [
    {
     "data": {
      "text/plain": [
       "('Kathmandu',\n",
       " 'Pokhara',\n",
       " 'Dharan',\n",
       " 'Kathmandu',\n",
       " 'Janakpur',\n",
       " 'Biratnagar',\n",
       " 'Dhangadhi')"
      ]
     },
     "execution_count": 27,
     "metadata": {},
     "output_type": "execute_result"
    }
   ],
   "source": [
    "tup"
   ]
  },
  {
   "cell_type": "code",
   "execution_count": 28,
   "id": "34b2f4ab",
   "metadata": {},
   "outputs": [],
   "source": [
    "city=('Chitwan','Hetauda')"
   ]
  },
  {
   "cell_type": "code",
   "execution_count": 30,
   "id": "40cdd1e9",
   "metadata": {},
   "outputs": [],
   "source": [
    "city=city+tup"
   ]
  },
  {
   "cell_type": "code",
   "execution_count": 31,
   "id": "04b3c318",
   "metadata": {},
   "outputs": [
    {
     "data": {
      "text/plain": [
       "('Chitwan',\n",
       " 'Hetauda',\n",
       " 'Kathmandu',\n",
       " 'Pokhara',\n",
       " 'Dharan',\n",
       " 'Kathmandu',\n",
       " 'Janakpur',\n",
       " 'Biratnagar',\n",
       " 'Dhangadhi')"
      ]
     },
     "execution_count": 31,
     "metadata": {},
     "output_type": "execute_result"
    }
   ],
   "source": [
    "city"
   ]
  },
  {
   "cell_type": "markdown",
   "id": "0bb644f1",
   "metadata": {},
   "source": [
    "#### Unpack"
   ]
  },
  {
   "cell_type": "code",
   "execution_count": 48,
   "id": "c643c6e1",
   "metadata": {},
   "outputs": [],
   "source": [
    "(citya,*cityb)=('Kathmandu', 'Pokhara','hetauda')"
   ]
  },
  {
   "cell_type": "code",
   "execution_count": 49,
   "id": "07aba3a1",
   "metadata": {},
   "outputs": [
    {
     "data": {
      "text/plain": [
       "'Kathmandu'"
      ]
     },
     "execution_count": 49,
     "metadata": {},
     "output_type": "execute_result"
    }
   ],
   "source": [
    "citya"
   ]
  },
  {
   "cell_type": "code",
   "execution_count": 50,
   "id": "19804f7f",
   "metadata": {},
   "outputs": [
    {
     "data": {
      "text/plain": [
       "['Pokhara', 'hetauda']"
      ]
     },
     "execution_count": 50,
     "metadata": {},
     "output_type": "execute_result"
    }
   ],
   "source": [
    "cityb"
   ]
  },
  {
   "cell_type": "markdown",
   "id": "3f8a4ad7",
   "metadata": {},
   "source": [
    "##### Looping in Tuple"
   ]
  },
  {
   "cell_type": "code",
   "execution_count": 52,
   "id": "768c7a79",
   "metadata": {},
   "outputs": [
    {
     "name": "stdout",
     "output_type": "stream",
     "text": [
      "Kathmandu\n",
      "Pokhara\n",
      "Dharan\n",
      "Kathmandu\n",
      "Janakpur\n",
      "Biratnagar\n",
      "Dhangadhi\n"
     ]
    }
   ],
   "source": [
    "for i in tup:\n",
    "    print(i)"
   ]
  },
  {
   "cell_type": "code",
   "execution_count": 59,
   "id": "c53d61d3",
   "metadata": {},
   "outputs": [
    {
     "name": "stdout",
     "output_type": "stream",
     "text": [
      "['Kathmandu']\n",
      "['Kathmandu', 'Pokhara']\n",
      "['Kathmandu', 'Pokhara', 'Dharan']\n",
      "['Kathmandu', 'Pokhara', 'Dharan', 'Kathmandu']\n",
      "['Kathmandu', 'Pokhara', 'Dharan', 'Kathmandu', 'Janakpur']\n"
     ]
    }
   ],
   "source": [
    "a=[]\n",
    "for i in range(5):\n",
    "    a.append(tup[i])\n",
    "    print(a)"
   ]
  },
  {
   "cell_type": "code",
   "execution_count": 60,
   "id": "e626b5e0",
   "metadata": {
    "scrolled": true
   },
   "outputs": [
    {
     "name": "stdout",
     "output_type": "stream",
     "text": [
      "('Kathmandu', 'Pokhara', 'Dharan', 'Kathmandu', 'Janakpur', 'Biratnagar', 'Dhangadhi', 'Kathmandu', 'Pokhara', 'Dharan', 'Kathmandu', 'Janakpur', 'Biratnagar', 'Dhangadhi', 'Kathmandu', 'Pokhara', 'Dharan', 'Kathmandu', 'Janakpur', 'Biratnagar', 'Dhangadhi')\n"
     ]
    }
   ],
   "source": [
    "print(tup*3)"
   ]
  },
  {
   "cell_type": "markdown",
   "id": "daf8123e",
   "metadata": {},
   "source": [
    "### Tuple Methods"
   ]
  },
  {
   "cell_type": "code",
   "execution_count": 61,
   "id": "f5e0ecf3",
   "metadata": {},
   "outputs": [
    {
     "ename": "AttributeError",
     "evalue": "type object 'tuple' has no attribute 'sort'",
     "output_type": "error",
     "traceback": [
      "\u001b[0;31m---------------------------------------------------------------------------\u001b[0m",
      "\u001b[0;31mAttributeError\u001b[0m                            Traceback (most recent call last)",
      "Cell \u001b[0;32mIn[61], line 1\u001b[0m\n\u001b[0;32m----> 1\u001b[0m \u001b[38;5;28mtuple\u001b[39m\u001b[38;5;241m.\u001b[39msort()\n",
      "\u001b[0;31mAttributeError\u001b[0m: type object 'tuple' has no attribute 'sort'"
     ]
    }
   ],
   "source": [
    "tuple.sort()"
   ]
  },
  {
   "cell_type": "code",
   "execution_count": 65,
   "id": "3eeb56e3",
   "metadata": {},
   "outputs": [
    {
     "data": {
      "text/plain": [
       "2"
      ]
     },
     "execution_count": 65,
     "metadata": {},
     "output_type": "execute_result"
    }
   ],
   "source": [
    "tup.count('Kathmandu')"
   ]
  },
  {
   "cell_type": "code",
   "execution_count": 68,
   "id": "9d5da225",
   "metadata": {},
   "outputs": [
    {
     "data": {
      "text/plain": [
       "2"
      ]
     },
     "execution_count": 68,
     "metadata": {},
     "output_type": "execute_result"
    }
   ],
   "source": [
    "tup.index('Dharan')"
   ]
  },
  {
   "cell_type": "code",
   "execution_count": 69,
   "id": "1b680a6c",
   "metadata": {},
   "outputs": [
    {
     "data": {
      "text/plain": [
       "('Kathmandu',\n",
       " 'Pokhara',\n",
       " 'Dharan',\n",
       " 'Kathmandu',\n",
       " 'Janakpur',\n",
       " 'Biratnagar',\n",
       " 'Dhangadhi')"
      ]
     },
     "execution_count": 69,
     "metadata": {},
     "output_type": "execute_result"
    }
   ],
   "source": [
    "tup"
   ]
  },
  {
   "cell_type": "code",
   "execution_count": 70,
   "id": "e08c1f9d",
   "metadata": {},
   "outputs": [],
   "source": [
    "## Index of Next kathmandu"
   ]
  },
  {
   "cell_type": "markdown",
   "id": "40f79b28",
   "metadata": {},
   "source": [
    "## Set"
   ]
  },
  {
   "cell_type": "code",
   "execution_count": 1,
   "id": "d48e01a7",
   "metadata": {},
   "outputs": [],
   "source": [
    "a={24,45,66,78,90,90,24,45,66,66,66,66,24,24,24,24,24,24,24,24}"
   ]
  },
  {
   "cell_type": "code",
   "execution_count": 2,
   "id": "3dad1cf1",
   "metadata": {},
   "outputs": [
    {
     "data": {
      "text/plain": [
       "{24, 45, 66, 78, 90}"
      ]
     },
     "execution_count": 2,
     "metadata": {},
     "output_type": "execute_result"
    }
   ],
   "source": [
    "a"
   ]
  },
  {
   "cell_type": "code",
   "execution_count": 86,
   "id": "aad11edd",
   "metadata": {},
   "outputs": [
    {
     "data": {
      "text/plain": [
       "5"
      ]
     },
     "execution_count": 86,
     "metadata": {},
     "output_type": "execute_result"
    }
   ],
   "source": [
    "len(a)"
   ]
  },
  {
   "cell_type": "markdown",
   "id": "f5c4c2e5",
   "metadata": {},
   "source": [
    "### Access the element"
   ]
  },
  {
   "cell_type": "code",
   "execution_count": 7,
   "id": "15e3d4ad",
   "metadata": {},
   "outputs": [
    {
     "name": "stdout",
     "output_type": "stream",
     "text": [
      "66\n",
      "24\n",
      "90\n",
      "45\n",
      "78\n"
     ]
    }
   ],
   "source": [
    "for i in a:\n",
    "    print(i)"
   ]
  },
  {
   "cell_type": "markdown",
   "id": "9fb3a2ea",
   "metadata": {},
   "source": [
    "### Value addition in Set"
   ]
  },
  {
   "cell_type": "code",
   "execution_count": 8,
   "id": "1eee774f",
   "metadata": {},
   "outputs": [],
   "source": [
    "a.add(1024)"
   ]
  },
  {
   "cell_type": "code",
   "execution_count": 9,
   "id": "945adb87",
   "metadata": {},
   "outputs": [
    {
     "data": {
      "text/plain": [
       "{24, 45, 66, 78, 90, 1024}"
      ]
     },
     "execution_count": 9,
     "metadata": {},
     "output_type": "execute_result"
    }
   ],
   "source": [
    "a"
   ]
  },
  {
   "cell_type": "code",
   "execution_count": 11,
   "id": "2b136786",
   "metadata": {},
   "outputs": [],
   "source": [
    "b={400,300,200,1050}"
   ]
  },
  {
   "cell_type": "code",
   "execution_count": 12,
   "id": "425cf2ed",
   "metadata": {},
   "outputs": [
    {
     "data": {
      "text/plain": [
       "{24, 45, 66, 78, 90, 1024}"
      ]
     },
     "execution_count": 12,
     "metadata": {},
     "output_type": "execute_result"
    }
   ],
   "source": [
    "a"
   ]
  },
  {
   "cell_type": "code",
   "execution_count": 13,
   "id": "4e511160",
   "metadata": {},
   "outputs": [],
   "source": [
    "a.update(b)"
   ]
  },
  {
   "cell_type": "code",
   "execution_count": 14,
   "id": "ed25f14d",
   "metadata": {},
   "outputs": [
    {
     "data": {
      "text/plain": [
       "{24, 45, 66, 78, 90, 200, 300, 400, 1024, 1050}"
      ]
     },
     "execution_count": 14,
     "metadata": {},
     "output_type": "execute_result"
    }
   ],
   "source": [
    "a"
   ]
  },
  {
   "cell_type": "markdown",
   "id": "bfb43191",
   "metadata": {},
   "source": [
    "#### Remove element"
   ]
  },
  {
   "cell_type": "code",
   "execution_count": 21,
   "id": "2be607a2",
   "metadata": {},
   "outputs": [
    {
     "ename": "KeyError",
     "evalue": "1050",
     "output_type": "error",
     "traceback": [
      "\u001b[0;31m---------------------------------------------------------------------------\u001b[0m",
      "\u001b[0;31mKeyError\u001b[0m                                  Traceback (most recent call last)",
      "Cell \u001b[0;32mIn[21], line 1\u001b[0m\n\u001b[0;32m----> 1\u001b[0m a\u001b[38;5;241m.\u001b[39mremove(\u001b[38;5;241m1050\u001b[39m)\n",
      "\u001b[0;31mKeyError\u001b[0m: 1050"
     ]
    }
   ],
   "source": [
    "a.remove(1050)"
   ]
  },
  {
   "cell_type": "code",
   "execution_count": 18,
   "id": "6e28d68c",
   "metadata": {},
   "outputs": [
    {
     "data": {
      "text/plain": [
       "{24, 45, 66, 78, 90, 200, 300, 400, 1024}"
      ]
     },
     "execution_count": 18,
     "metadata": {},
     "output_type": "execute_result"
    }
   ],
   "source": [
    "a"
   ]
  },
  {
   "cell_type": "code",
   "execution_count": 22,
   "id": "d77b6c8a",
   "metadata": {},
   "outputs": [],
   "source": [
    "a.discard(1024)"
   ]
  },
  {
   "cell_type": "code",
   "execution_count": 23,
   "id": "c26525dc",
   "metadata": {},
   "outputs": [
    {
     "data": {
      "text/plain": [
       "{24, 45, 66, 78, 90, 200, 300, 400}"
      ]
     },
     "execution_count": 23,
     "metadata": {},
     "output_type": "execute_result"
    }
   ],
   "source": [
    "a"
   ]
  },
  {
   "cell_type": "code",
   "execution_count": 27,
   "id": "b4b068ff",
   "metadata": {},
   "outputs": [
    {
     "data": {
      "text/plain": [
       "200"
      ]
     },
     "execution_count": 27,
     "metadata": {},
     "output_type": "execute_result"
    }
   ],
   "source": [
    "a.pop()"
   ]
  },
  {
   "cell_type": "code",
   "execution_count": 25,
   "id": "b64cd6d0",
   "metadata": {},
   "outputs": [
    {
     "data": {
      "text/plain": [
       "{24, 45, 78, 90, 200, 300, 400}"
      ]
     },
     "execution_count": 25,
     "metadata": {},
     "output_type": "execute_result"
    }
   ],
   "source": [
    "a"
   ]
  },
  {
   "cell_type": "markdown",
   "id": "2e2e017e",
   "metadata": {},
   "source": [
    "##### Del and Clear"
   ]
  },
  {
   "cell_type": "code",
   "execution_count": 28,
   "id": "8e1ce149",
   "metadata": {},
   "outputs": [
    {
     "data": {
      "text/plain": [
       "{24, 45, 78, 90, 300, 400}"
      ]
     },
     "execution_count": 28,
     "metadata": {},
     "output_type": "execute_result"
    }
   ],
   "source": [
    "a"
   ]
  },
  {
   "cell_type": "code",
   "execution_count": 29,
   "id": "4599b63a",
   "metadata": {},
   "outputs": [
    {
     "data": {
      "text/plain": [
       "{200, 300, 400, 1050}"
      ]
     },
     "execution_count": 29,
     "metadata": {},
     "output_type": "execute_result"
    }
   ],
   "source": [
    "b"
   ]
  },
  {
   "cell_type": "code",
   "execution_count": 30,
   "id": "0c11d74a",
   "metadata": {},
   "outputs": [],
   "source": [
    "del a"
   ]
  },
  {
   "cell_type": "code",
   "execution_count": 31,
   "id": "bc84b743",
   "metadata": {},
   "outputs": [],
   "source": [
    "b.clear()"
   ]
  },
  {
   "cell_type": "code",
   "execution_count": 32,
   "id": "00662ac4",
   "metadata": {},
   "outputs": [
    {
     "ename": "NameError",
     "evalue": "name 'a' is not defined",
     "output_type": "error",
     "traceback": [
      "\u001b[0;31m---------------------------------------------------------------------------\u001b[0m",
      "\u001b[0;31mNameError\u001b[0m                                 Traceback (most recent call last)",
      "Cell \u001b[0;32mIn[32], line 1\u001b[0m\n\u001b[0;32m----> 1\u001b[0m a\n",
      "\u001b[0;31mNameError\u001b[0m: name 'a' is not defined"
     ]
    }
   ],
   "source": [
    "a"
   ]
  },
  {
   "cell_type": "code",
   "execution_count": 33,
   "id": "1013e565",
   "metadata": {},
   "outputs": [
    {
     "data": {
      "text/plain": [
       "set()"
      ]
     },
     "execution_count": 33,
     "metadata": {},
     "output_type": "execute_result"
    }
   ],
   "source": [
    "b"
   ]
  },
  {
   "cell_type": "markdown",
   "id": "3b7db038",
   "metadata": {},
   "source": [
    "### Joining in Set "
   ]
  },
  {
   "cell_type": "code",
   "execution_count": 43,
   "id": "534e68f1",
   "metadata": {},
   "outputs": [],
   "source": [
    "a={2,200, 300, 400, 1050}\n",
    "b={24, 45, 78, 200,90, 300, 400}\n",
    "c=[45,67,78.8,'helo']"
   ]
  },
  {
   "cell_type": "code",
   "execution_count": 41,
   "id": "8e5e43be",
   "metadata": {},
   "outputs": [
    {
     "data": {
      "text/plain": [
       "{2, 24, 45, 78, 90, 200, 300, 400, 1050}"
      ]
     },
     "execution_count": 41,
     "metadata": {},
     "output_type": "execute_result"
    }
   ],
   "source": [
    "a.union(b)"
   ]
  },
  {
   "cell_type": "code",
   "execution_count": 45,
   "id": "203e3629",
   "metadata": {},
   "outputs": [
    {
     "data": {
      "text/plain": [
       "{1050, 2, 200, 300, 400, 45, 67, 78.8, 'helo'}"
      ]
     },
     "execution_count": 45,
     "metadata": {},
     "output_type": "execute_result"
    }
   ],
   "source": [
    "a.union(c)"
   ]
  },
  {
   "cell_type": "code",
   "execution_count": 46,
   "id": "c56648a5",
   "metadata": {},
   "outputs": [
    {
     "data": {
      "text/plain": [
       "set()"
      ]
     },
     "execution_count": 46,
     "metadata": {},
     "output_type": "execute_result"
    }
   ],
   "source": [
    "a.intersection(c)"
   ]
  },
  {
   "cell_type": "code",
   "execution_count": 50,
   "id": "4cd8b932",
   "metadata": {},
   "outputs": [
    {
     "data": {
      "text/plain": [
       "{2, 1050}"
      ]
     },
     "execution_count": 50,
     "metadata": {},
     "output_type": "execute_result"
    }
   ],
   "source": [
    "a-b"
   ]
  },
  {
   "cell_type": "markdown",
   "id": "85aa3403",
   "metadata": {},
   "source": [
    "## Dictionary"
   ]
  },
  {
   "cell_type": "code",
   "execution_count": 14,
   "id": "3ecf1ac5",
   "metadata": {},
   "outputs": [],
   "source": [
    "dict_age = { \n",
    "    'Ramita':56 , 'Ram':34 , 'Sita':80 ,'Gita':15 , 'Ram':80\n",
    "}"
   ]
  },
  {
   "cell_type": "code",
   "execution_count": 19,
   "id": "55ba5535",
   "metadata": {},
   "outputs": [],
   "source": [
    "abc=dict(Ramita=67 ,Pujan=78)"
   ]
  },
  {
   "cell_type": "code",
   "execution_count": 20,
   "id": "5651186f",
   "metadata": {},
   "outputs": [
    {
     "data": {
      "text/plain": [
       "dict"
      ]
     },
     "execution_count": 20,
     "metadata": {},
     "output_type": "execute_result"
    }
   ],
   "source": [
    "type(abc)"
   ]
  },
  {
   "cell_type": "code",
   "execution_count": 15,
   "id": "987da8f2",
   "metadata": {},
   "outputs": [
    {
     "data": {
      "text/plain": [
       "dict"
      ]
     },
     "execution_count": 15,
     "metadata": {},
     "output_type": "execute_result"
    }
   ],
   "source": [
    "type(dict_age)"
   ]
  },
  {
   "cell_type": "code",
   "execution_count": 16,
   "id": "e02657f9",
   "metadata": {},
   "outputs": [
    {
     "name": "stdout",
     "output_type": "stream",
     "text": [
      "{'Ramita': 56, 'Ram': 80, 'Sita': 80, 'Gita': 15}\n"
     ]
    }
   ],
   "source": [
    "print(dict_age)"
   ]
  },
  {
   "cell_type": "code",
   "execution_count": 10,
   "id": "38cf54d6",
   "metadata": {},
   "outputs": [
    {
     "data": {
      "text/plain": [
       "80"
      ]
     },
     "execution_count": 10,
     "metadata": {},
     "output_type": "execute_result"
    }
   ],
   "source": [
    "#Item accessed\n",
    "dict_age['Ram']"
   ]
  },
  {
   "cell_type": "code",
   "execution_count": 17,
   "id": "6b5d5ede",
   "metadata": {},
   "outputs": [
    {
     "data": {
      "text/plain": [
       "4"
      ]
     },
     "execution_count": 17,
     "metadata": {},
     "output_type": "execute_result"
    }
   ],
   "source": [
    "len(dict_age)"
   ]
  },
  {
   "cell_type": "markdown",
   "id": "54518274",
   "metadata": {},
   "source": [
    "### Items Access"
   ]
  },
  {
   "cell_type": "code",
   "execution_count": 23,
   "id": "2a8ba8de",
   "metadata": {},
   "outputs": [
    {
     "data": {
      "text/plain": [
       "67"
      ]
     },
     "execution_count": 23,
     "metadata": {},
     "output_type": "execute_result"
    }
   ],
   "source": [
    "abc['Ramita']"
   ]
  },
  {
   "cell_type": "code",
   "execution_count": 24,
   "id": "e9764185",
   "metadata": {},
   "outputs": [
    {
     "data": {
      "text/plain": [
       "67"
      ]
     },
     "execution_count": 24,
     "metadata": {},
     "output_type": "execute_result"
    }
   ],
   "source": [
    "abc.get('Ramita')"
   ]
  },
  {
   "cell_type": "code",
   "execution_count": 28,
   "id": "c8942177",
   "metadata": {},
   "outputs": [
    {
     "data": {
      "text/plain": [
       "dict_keys(['Ramita', 'Ram', 'Sita', 'Gita'])"
      ]
     },
     "execution_count": 28,
     "metadata": {},
     "output_type": "execute_result"
    }
   ],
   "source": [
    "dict_age.keys()"
   ]
  },
  {
   "cell_type": "markdown",
   "id": "c813c07b",
   "metadata": {},
   "source": [
    "### Items changeable"
   ]
  },
  {
   "cell_type": "code",
   "execution_count": 29,
   "id": "8998896d",
   "metadata": {},
   "outputs": [],
   "source": [
    "abc['Ramita']=9000"
   ]
  },
  {
   "cell_type": "code",
   "execution_count": 30,
   "id": "412f80d5",
   "metadata": {},
   "outputs": [
    {
     "data": {
      "text/plain": [
       "{'Ramita': 9000, 'Pujan': 78}"
      ]
     },
     "execution_count": 30,
     "metadata": {},
     "output_type": "execute_result"
    }
   ],
   "source": [
    "abc"
   ]
  },
  {
   "cell_type": "code",
   "execution_count": 31,
   "id": "c0ac282e",
   "metadata": {},
   "outputs": [],
   "source": [
    "abc.update({'Ramita':9})"
   ]
  },
  {
   "cell_type": "code",
   "execution_count": 32,
   "id": "b38d431e",
   "metadata": {},
   "outputs": [
    {
     "data": {
      "text/plain": [
       "{'Ramita': 9, 'Pujan': 78}"
      ]
     },
     "execution_count": 32,
     "metadata": {},
     "output_type": "execute_result"
    }
   ],
   "source": [
    "abc"
   ]
  },
  {
   "cell_type": "markdown",
   "id": "8af306b0",
   "metadata": {},
   "source": [
    "### Add Items"
   ]
  },
  {
   "cell_type": "code",
   "execution_count": 33,
   "id": "73142f9f",
   "metadata": {},
   "outputs": [],
   "source": [
    "abc.update({'Ram':9999})"
   ]
  },
  {
   "cell_type": "code",
   "execution_count": 34,
   "id": "5d6afb63",
   "metadata": {},
   "outputs": [
    {
     "data": {
      "text/plain": [
       "{'Ramita': 9, 'Pujan': 78, 'Ram': 9999}"
      ]
     },
     "execution_count": 34,
     "metadata": {},
     "output_type": "execute_result"
    }
   ],
   "source": [
    "abc"
   ]
  },
  {
   "cell_type": "code",
   "execution_count": 35,
   "id": "3ea30e5c",
   "metadata": {},
   "outputs": [],
   "source": [
    "abc['Sajan']=True"
   ]
  },
  {
   "cell_type": "code",
   "execution_count": 36,
   "id": "ab8ac9d9",
   "metadata": {},
   "outputs": [
    {
     "data": {
      "text/plain": [
       "{'Ramita': 9, 'Pujan': 78, 'Ram': 9999, 'Sajan': True}"
      ]
     },
     "execution_count": 36,
     "metadata": {},
     "output_type": "execute_result"
    }
   ],
   "source": [
    "abc"
   ]
  },
  {
   "cell_type": "markdown",
   "id": "79398a89",
   "metadata": {},
   "source": [
    "### Remove Items"
   ]
  },
  {
   "cell_type": "code",
   "execution_count": 37,
   "id": "dbdcc71d",
   "metadata": {},
   "outputs": [
    {
     "data": {
      "text/plain": [
       "{'Ramita': 9, 'Pujan': 78, 'Ram': 9999, 'Sajan': True}"
      ]
     },
     "execution_count": 37,
     "metadata": {},
     "output_type": "execute_result"
    }
   ],
   "source": [
    "abc"
   ]
  },
  {
   "cell_type": "code",
   "execution_count": 40,
   "id": "ef40e623",
   "metadata": {},
   "outputs": [
    {
     "data": {
      "text/plain": [
       "9999"
      ]
     },
     "execution_count": 40,
     "metadata": {},
     "output_type": "execute_result"
    }
   ],
   "source": [
    "abc.pop('Ram')"
   ]
  },
  {
   "cell_type": "code",
   "execution_count": 41,
   "id": "7331ff49",
   "metadata": {},
   "outputs": [
    {
     "data": {
      "text/plain": [
       "{'Ramita': 9, 'Pujan': 78, 'Sajan': True}"
      ]
     },
     "execution_count": 41,
     "metadata": {},
     "output_type": "execute_result"
    }
   ],
   "source": [
    "abc"
   ]
  },
  {
   "cell_type": "code",
   "execution_count": 43,
   "id": "eb52c38a",
   "metadata": {},
   "outputs": [
    {
     "data": {
      "text/plain": [
       "('Sajan', True)"
      ]
     },
     "execution_count": 43,
     "metadata": {},
     "output_type": "execute_result"
    }
   ],
   "source": [
    "abc.popitem()"
   ]
  },
  {
   "cell_type": "code",
   "execution_count": 44,
   "id": "20091cc6",
   "metadata": {},
   "outputs": [
    {
     "data": {
      "text/plain": [
       "{'Ramita': 9, 'Pujan': 78}"
      ]
     },
     "execution_count": 44,
     "metadata": {},
     "output_type": "execute_result"
    }
   ],
   "source": [
    "abc"
   ]
  },
  {
   "cell_type": "markdown",
   "id": "50edae0b",
   "metadata": {},
   "source": [
    "### Looping in Dictionary"
   ]
  },
  {
   "cell_type": "code",
   "execution_count": 45,
   "id": "65a8b82c",
   "metadata": {},
   "outputs": [
    {
     "name": "stdout",
     "output_type": "stream",
     "text": [
      "Ramita\n",
      "Pujan\n"
     ]
    }
   ],
   "source": [
    "for i in abc:\n",
    "    print(i)"
   ]
  },
  {
   "cell_type": "code",
   "execution_count": 46,
   "id": "e7452b61",
   "metadata": {},
   "outputs": [
    {
     "name": "stdout",
     "output_type": "stream",
     "text": [
      "Ramita\n",
      "Pujan\n"
     ]
    }
   ],
   "source": [
    "for i in abc.keys():\n",
    "    print(i)"
   ]
  },
  {
   "cell_type": "code",
   "execution_count": 47,
   "id": "8f5af634",
   "metadata": {},
   "outputs": [
    {
     "name": "stdout",
     "output_type": "stream",
     "text": [
      "9\n",
      "78\n"
     ]
    }
   ],
   "source": [
    "for i in abc.values():\n",
    "    print(i)"
   ]
  },
  {
   "cell_type": "code",
   "execution_count": 49,
   "id": "0a7e30f3",
   "metadata": {},
   "outputs": [
    {
     "name": "stdout",
     "output_type": "stream",
     "text": [
      "The lucky number or string of Ramita is 9\n",
      "The lucky number or string of Pujan is 78\n"
     ]
    }
   ],
   "source": [
    "for x,y in abc.items():\n",
    "    print(f'The lucky number or string of {x} is {y}')"
   ]
  },
  {
   "cell_type": "markdown",
   "id": "da2d2561",
   "metadata": {},
   "source": [
    "### Copying"
   ]
  },
  {
   "cell_type": "code",
   "execution_count": 50,
   "id": "cec245b6",
   "metadata": {},
   "outputs": [],
   "source": [
    "bbc=abc"
   ]
  },
  {
   "cell_type": "code",
   "execution_count": 51,
   "id": "bb61b141",
   "metadata": {},
   "outputs": [
    {
     "data": {
      "text/plain": [
       "{'Ramita': 9, 'Pujan': 78}"
      ]
     },
     "execution_count": 51,
     "metadata": {},
     "output_type": "execute_result"
    }
   ],
   "source": [
    "bbc"
   ]
  },
  {
   "cell_type": "code",
   "execution_count": 52,
   "id": "bcf14f07",
   "metadata": {},
   "outputs": [
    {
     "data": {
      "text/plain": [
       "{'Ramita': 9, 'Pujan': 78}"
      ]
     },
     "execution_count": 52,
     "metadata": {},
     "output_type": "execute_result"
    }
   ],
   "source": [
    "abc"
   ]
  },
  {
   "cell_type": "code",
   "execution_count": 54,
   "id": "971c8ecd",
   "metadata": {},
   "outputs": [
    {
     "data": {
      "text/plain": [
       "('Pujan', 78)"
      ]
     },
     "execution_count": 54,
     "metadata": {},
     "output_type": "execute_result"
    }
   ],
   "source": [
    "abc.popitem()"
   ]
  },
  {
   "cell_type": "code",
   "execution_count": 55,
   "id": "643fbe61",
   "metadata": {},
   "outputs": [
    {
     "data": {
      "text/plain": [
       "{'Ramita': 9}"
      ]
     },
     "execution_count": 55,
     "metadata": {},
     "output_type": "execute_result"
    }
   ],
   "source": [
    "abc"
   ]
  },
  {
   "cell_type": "code",
   "execution_count": 56,
   "id": "e255cca5",
   "metadata": {},
   "outputs": [
    {
     "data": {
      "text/plain": [
       "{'Ramita': 9}"
      ]
     },
     "execution_count": 56,
     "metadata": {},
     "output_type": "execute_result"
    }
   ],
   "source": [
    "bbc"
   ]
  },
  {
   "cell_type": "code",
   "execution_count": 58,
   "id": "087bd063",
   "metadata": {},
   "outputs": [],
   "source": [
    "## copy\n",
    "ccc=abc.copy()"
   ]
  },
  {
   "cell_type": "code",
   "execution_count": 59,
   "id": "c89e6e31",
   "metadata": {},
   "outputs": [
    {
     "data": {
      "text/plain": [
       "{'Ramita': 9}"
      ]
     },
     "execution_count": 59,
     "metadata": {},
     "output_type": "execute_result"
    }
   ],
   "source": [
    "ccc"
   ]
  },
  {
   "cell_type": "code",
   "execution_count": 62,
   "id": "d207a6e4",
   "metadata": {},
   "outputs": [
    {
     "data": {
      "text/plain": [
       "('Ramita', 9)"
      ]
     },
     "execution_count": 62,
     "metadata": {},
     "output_type": "execute_result"
    }
   ],
   "source": [
    "abc.popitem()"
   ]
  },
  {
   "cell_type": "code",
   "execution_count": 63,
   "id": "fada6e7c",
   "metadata": {},
   "outputs": [
    {
     "data": {
      "text/plain": [
       "{'Ramita': 9}"
      ]
     },
     "execution_count": 63,
     "metadata": {},
     "output_type": "execute_result"
    }
   ],
   "source": [
    "ccc"
   ]
  },
  {
   "cell_type": "code",
   "execution_count": 64,
   "id": "627ded8c",
   "metadata": {},
   "outputs": [
    {
     "data": {
      "text/plain": [
       "{}"
      ]
     },
     "execution_count": 64,
     "metadata": {},
     "output_type": "execute_result"
    }
   ],
   "source": [
    "abc"
   ]
  },
  {
   "cell_type": "code",
   "execution_count": 65,
   "id": "98f99679",
   "metadata": {},
   "outputs": [],
   "source": [
    "#clear \n",
    "ccc.clear()"
   ]
  },
  {
   "cell_type": "code",
   "execution_count": 66,
   "id": "d508bb1a",
   "metadata": {},
   "outputs": [
    {
     "data": {
      "text/plain": [
       "{}"
      ]
     },
     "execution_count": 66,
     "metadata": {},
     "output_type": "execute_result"
    }
   ],
   "source": [
    "ccc"
   ]
  },
  {
   "cell_type": "code",
   "execution_count": 67,
   "id": "d03e5e9d",
   "metadata": {},
   "outputs": [],
   "source": [
    "del ccc"
   ]
  },
  {
   "cell_type": "code",
   "execution_count": 68,
   "id": "e0f5b239",
   "metadata": {},
   "outputs": [
    {
     "ename": "NameError",
     "evalue": "name 'ccc' is not defined",
     "output_type": "error",
     "traceback": [
      "\u001b[0;31m---------------------------------------------------------------------------\u001b[0m",
      "\u001b[0;31mNameError\u001b[0m                                 Traceback (most recent call last)",
      "Cell \u001b[0;32mIn[68], line 1\u001b[0m\n\u001b[0;32m----> 1\u001b[0m ccc\n",
      "\u001b[0;31mNameError\u001b[0m: name 'ccc' is not defined"
     ]
    }
   ],
   "source": [
    "ccc"
   ]
  },
  {
   "cell_type": "markdown",
   "id": "a68bbac0",
   "metadata": {},
   "source": [
    "### Nested List/Dict"
   ]
  },
  {
   "cell_type": "code",
   "execution_count": 73,
   "id": "2062dd69",
   "metadata": {},
   "outputs": [],
   "source": [
    "a=[45,'rrrr',False ,'Tree' ,7000]"
   ]
  },
  {
   "cell_type": "code",
   "execution_count": 74,
   "id": "267ea246",
   "metadata": {},
   "outputs": [
    {
     "data": {
      "text/plain": [
       "list"
      ]
     },
     "execution_count": 74,
     "metadata": {},
     "output_type": "execute_result"
    }
   ],
   "source": [
    "type(a)"
   ]
  },
  {
   "cell_type": "code",
   "execution_count": 76,
   "id": "e564fcd3",
   "metadata": {},
   "outputs": [
    {
     "data": {
      "text/plain": [
       "5"
      ]
     },
     "execution_count": 76,
     "metadata": {},
     "output_type": "execute_result"
    }
   ],
   "source": [
    "len(a)"
   ]
  },
  {
   "cell_type": "code",
   "execution_count": 72,
   "id": "f1052435",
   "metadata": {},
   "outputs": [],
   "source": [
    "b=[45,[ 'rrrr',False] ,['Tree' ,7000]]"
   ]
  },
  {
   "cell_type": "code",
   "execution_count": 77,
   "id": "1747362c",
   "metadata": {},
   "outputs": [
    {
     "data": {
      "text/plain": [
       "3"
      ]
     },
     "execution_count": 77,
     "metadata": {},
     "output_type": "execute_result"
    }
   ],
   "source": [
    "len(b)"
   ]
  },
  {
   "cell_type": "code",
   "execution_count": 79,
   "id": "e3c9ac96",
   "metadata": {},
   "outputs": [
    {
     "data": {
      "text/plain": [
       "False"
      ]
     },
     "execution_count": 79,
     "metadata": {},
     "output_type": "execute_result"
    }
   ],
   "source": [
    "b[1][1]"
   ]
  },
  {
   "cell_type": "code",
   "execution_count": 80,
   "id": "1ae3413d",
   "metadata": {},
   "outputs": [],
   "source": [
    "d=tuple(a)"
   ]
  },
  {
   "cell_type": "code",
   "execution_count": 81,
   "id": "7237b3c9",
   "metadata": {},
   "outputs": [
    {
     "data": {
      "text/plain": [
       "(45, 'rrrr', False, 'Tree', 7000)"
      ]
     },
     "execution_count": 81,
     "metadata": {},
     "output_type": "execute_result"
    }
   ],
   "source": [
    "d"
   ]
  },
  {
   "cell_type": "code",
   "execution_count": 83,
   "id": "c4503893",
   "metadata": {},
   "outputs": [
    {
     "data": {
      "text/plain": [
       "tuple"
      ]
     },
     "execution_count": 83,
     "metadata": {},
     "output_type": "execute_result"
    }
   ],
   "source": [
    "type(d)"
   ]
  },
  {
   "cell_type": "code",
   "execution_count": 84,
   "id": "5362fcc8",
   "metadata": {},
   "outputs": [],
   "source": [
    "c=(45, ('rrrr', False), ('Tree', 7000))"
   ]
  },
  {
   "cell_type": "code",
   "execution_count": 85,
   "id": "4202065c",
   "metadata": {},
   "outputs": [
    {
     "data": {
      "text/plain": [
       "(45, ('rrrr', False), ('Tree', 7000))"
      ]
     },
     "execution_count": 85,
     "metadata": {},
     "output_type": "execute_result"
    }
   ],
   "source": [
    "c"
   ]
  },
  {
   "cell_type": "code",
   "execution_count": 88,
   "id": "b9a6e9b7",
   "metadata": {},
   "outputs": [
    {
     "data": {
      "text/plain": [
       "'rrrr'"
      ]
     },
     "execution_count": 88,
     "metadata": {},
     "output_type": "execute_result"
    }
   ],
   "source": [
    "c[1][0]"
   ]
  },
  {
   "cell_type": "code",
   "execution_count": 90,
   "id": "443bca6f",
   "metadata": {},
   "outputs": [],
   "source": [
    "#Dictionary"
   ]
  },
  {
   "cell_type": "code",
   "execution_count": 91,
   "id": "1c9ec02f",
   "metadata": {},
   "outputs": [],
   "source": [
    "stu={'Udit':{'AI':50 , 'Calculus' :89 } , 'Hari':90}"
   ]
  },
  {
   "cell_type": "code",
   "execution_count": 92,
   "id": "c96b06f9",
   "metadata": {},
   "outputs": [
    {
     "data": {
      "text/plain": [
       "{'Udit': {'AI': 50, 'Calculus': 89}, 'Hari': 90}"
      ]
     },
     "execution_count": 92,
     "metadata": {},
     "output_type": "execute_result"
    }
   ],
   "source": [
    "stu"
   ]
  },
  {
   "cell_type": "code",
   "execution_count": 93,
   "id": "ccbad6d5",
   "metadata": {},
   "outputs": [
    {
     "data": {
      "text/plain": [
       "{'AI': 50, 'Calculus': 89}"
      ]
     },
     "execution_count": 93,
     "metadata": {},
     "output_type": "execute_result"
    }
   ],
   "source": [
    "stu['Udit']"
   ]
  },
  {
   "cell_type": "code",
   "execution_count": 94,
   "id": "63aabc65",
   "metadata": {},
   "outputs": [
    {
     "data": {
      "text/plain": [
       "50"
      ]
     },
     "execution_count": 94,
     "metadata": {},
     "output_type": "execute_result"
    }
   ],
   "source": [
    "stu['Udit']['AI']"
   ]
  },
  {
   "cell_type": "code",
   "execution_count": null,
   "id": "cc0f14f3",
   "metadata": {},
   "outputs": [],
   "source": []
  }
 ],
 "metadata": {
  "kernelspec": {
   "display_name": "Python 3 (ipykernel)",
   "language": "python",
   "name": "python3"
  },
  "language_info": {
   "codemirror_mode": {
    "name": "ipython",
    "version": 3
   },
   "file_extension": ".py",
   "mimetype": "text/x-python",
   "name": "python",
   "nbconvert_exporter": "python",
   "pygments_lexer": "ipython3",
   "version": "3.11.4"
  }
 },
 "nbformat": 4,
 "nbformat_minor": 5
}

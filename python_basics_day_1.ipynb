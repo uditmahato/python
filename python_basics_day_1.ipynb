{
 "cells": [
  {
   "cell_type": "code",
   "execution_count": 1,
   "id": "dd13e3b1",
   "metadata": {},
   "outputs": [
    {
     "name": "stdout",
     "output_type": "stream",
     "text": [
      "Hello World!\n"
     ]
    }
   ],
   "source": [
    "print('Hello World!')"
   ]
  },
  {
   "cell_type": "code",
   "execution_count": 2,
   "id": "deb2f281",
   "metadata": {},
   "outputs": [
    {
     "name": "stdout",
     "output_type": "stream",
     "text": [
      "What is your name ?Udit\n"
     ]
    }
   ],
   "source": [
    "name=input('What is your name ?')"
   ]
  },
  {
   "cell_type": "code",
   "execution_count": 3,
   "id": "b880453a",
   "metadata": {},
   "outputs": [
    {
     "name": "stdout",
     "output_type": "stream",
     "text": [
      "Udit\n"
     ]
    }
   ],
   "source": [
    "print(name)"
   ]
  },
  {
   "cell_type": "markdown",
   "id": "e6dccd49",
   "metadata": {},
   "source": [
    "# Dynamic Typed and Srongly Typed"
   ]
  },
  {
   "cell_type": "code",
   "execution_count": 23,
   "id": "f03bd658",
   "metadata": {},
   "outputs": [],
   "source": [
    "a=15\n",
    "b='Nepal'\n",
    "c='True'\n",
    "d=6.2"
   ]
  },
  {
   "cell_type": "code",
   "execution_count": 24,
   "id": "8fd4d3a2",
   "metadata": {},
   "outputs": [
    {
     "data": {
      "text/plain": [
       "str"
      ]
     },
     "execution_count": 24,
     "metadata": {},
     "output_type": "execute_result"
    }
   ],
   "source": [
    "type(c)"
   ]
  },
  {
   "cell_type": "markdown",
   "id": "260ac485",
   "metadata": {},
   "source": [
    "## DATA TYPE"
   ]
  },
  {
   "cell_type": "code",
   "execution_count": 30,
   "id": "4e8c2ce8",
   "metadata": {},
   "outputs": [],
   "source": [
    "a=\"Name\""
   ]
  },
  {
   "cell_type": "code",
   "execution_count": 31,
   "id": "8a093cec",
   "metadata": {},
   "outputs": [
    {
     "data": {
      "text/plain": [
       "str"
      ]
     },
     "execution_count": 31,
     "metadata": {},
     "output_type": "execute_result"
    }
   ],
   "source": [
    "type(a)"
   ]
  },
  {
   "cell_type": "code",
   "execution_count": 44,
   "id": "db6bf1fe",
   "metadata": {},
   "outputs": [],
   "source": [
    "b='257'"
   ]
  },
  {
   "cell_type": "code",
   "execution_count": 40,
   "id": "6e86710c",
   "metadata": {},
   "outputs": [
    {
     "data": {
      "text/plain": [
       "str"
      ]
     },
     "execution_count": 40,
     "metadata": {},
     "output_type": "execute_result"
    }
   ],
   "source": [
    "type(b)"
   ]
  },
  {
   "cell_type": "code",
   "execution_count": 56,
   "id": "82c47e39",
   "metadata": {},
   "outputs": [],
   "source": [
    "c=5+4j"
   ]
  },
  {
   "cell_type": "code",
   "execution_count": 55,
   "id": "c1f7eb88",
   "metadata": {},
   "outputs": [
    {
     "data": {
      "text/plain": [
       "complex"
      ]
     },
     "execution_count": 55,
     "metadata": {},
     "output_type": "execute_result"
    }
   ],
   "source": [
    "type(c)"
   ]
  },
  {
   "cell_type": "code",
   "execution_count": 28,
   "id": "b49fdf5b",
   "metadata": {},
   "outputs": [],
   "source": [
    "d=6.88"
   ]
  },
  {
   "cell_type": "code",
   "execution_count": 36,
   "id": "0ff6d3e0",
   "metadata": {},
   "outputs": [
    {
     "data": {
      "text/plain": [
       "float"
      ]
     },
     "execution_count": 36,
     "metadata": {},
     "output_type": "execute_result"
    }
   ],
   "source": [
    "type(d)"
   ]
  },
  {
   "cell_type": "code",
   "execution_count": 37,
   "id": "fe5b8181",
   "metadata": {},
   "outputs": [],
   "source": [
    "g=False"
   ]
  },
  {
   "cell_type": "code",
   "execution_count": 38,
   "id": "0e742097",
   "metadata": {},
   "outputs": [
    {
     "data": {
      "text/plain": [
       "bool"
      ]
     },
     "execution_count": 38,
     "metadata": {},
     "output_type": "execute_result"
    }
   ],
   "source": [
    "type(g)"
   ]
  },
  {
   "cell_type": "code",
   "execution_count": 46,
   "id": "d685f29d",
   "metadata": {},
   "outputs": [],
   "source": [
    "data_casting=int(b)"
   ]
  },
  {
   "cell_type": "code",
   "execution_count": 47,
   "id": "3f8b39a6",
   "metadata": {},
   "outputs": [
    {
     "data": {
      "text/plain": [
       "int"
      ]
     },
     "execution_count": 47,
     "metadata": {},
     "output_type": "execute_result"
    }
   ],
   "source": [
    "type(data_casting)"
   ]
  },
  {
   "cell_type": "code",
   "execution_count": 50,
   "id": "36b011b6",
   "metadata": {},
   "outputs": [],
   "source": [
    "b=str(data_casting)"
   ]
  },
  {
   "cell_type": "code",
   "execution_count": 51,
   "id": "0529d96f",
   "metadata": {},
   "outputs": [
    {
     "data": {
      "text/plain": [
       "str"
      ]
     },
     "execution_count": 51,
     "metadata": {},
     "output_type": "execute_result"
    }
   ],
   "source": [
    "type(b)"
   ]
  },
  {
   "cell_type": "code",
   "execution_count": 46,
   "id": "a3dd7ecc",
   "metadata": {},
   "outputs": [
    {
     "name": "stdout",
     "output_type": "stream",
     "text": [
      "15\n"
     ]
    }
   ],
   "source": [
    "import random\n",
    "print(random.randrange(1,50))"
   ]
  },
  {
   "cell_type": "code",
   "execution_count": 48,
   "id": "66623de2",
   "metadata": {},
   "outputs": [
    {
     "name": "stdout",
     "output_type": "stream",
     "text": [
      "1\n"
     ]
    }
   ],
   "source": [
    "print(random.randint(1,50))"
   ]
  },
  {
   "cell_type": "markdown",
   "id": "85e4b365",
   "metadata": {},
   "source": [
    "## String"
   ]
  },
  {
   "cell_type": "code",
   "execution_count": 43,
   "id": "c1fed5d9",
   "metadata": {},
   "outputs": [],
   "source": [
    "a='This is me Udit .I am an Instructor for Python Course'"
   ]
  },
  {
   "cell_type": "code",
   "execution_count": 61,
   "id": "94141f59",
   "metadata": {},
   "outputs": [],
   "source": [
    "mult='''This is me Udit .\n",
    "I am an Instructor for Python Course\n",
    "'''"
   ]
  },
  {
   "cell_type": "code",
   "execution_count": 66,
   "id": "f26debb9",
   "metadata": {},
   "outputs": [],
   "source": [
    "multi=\"\"\"This is me Udit .\n",
    "I am an Instructor for Python Course\n",
    "\"\"\""
   ]
  },
  {
   "cell_type": "code",
   "execution_count": 69,
   "id": "aa477211",
   "metadata": {},
   "outputs": [
    {
     "name": "stdout",
     "output_type": "stream",
     "text": [
      "This is me Udit .\n",
      "I am an Instructor for Python Course\n",
      "\n"
     ]
    }
   ],
   "source": [
    "print(multi)"
   ]
  },
  {
   "cell_type": "code",
   "execution_count": 70,
   "id": "d4429afe",
   "metadata": {},
   "outputs": [],
   "source": [
    "a=65\n",
    "b=70\n",
    "c=30"
   ]
  },
  {
   "cell_type": "code",
   "execution_count": 71,
   "id": "7993b785",
   "metadata": {},
   "outputs": [
    {
     "name": "stdout",
     "output_type": "stream",
     "text": [
      "165\n"
     ]
    }
   ],
   "source": [
    "print(a+b+c)"
   ]
  },
  {
   "cell_type": "code",
   "execution_count": 88,
   "id": "c024480f",
   "metadata": {},
   "outputs": [],
   "source": [
    "abc=\"Out of The Box Study Center\""
   ]
  },
  {
   "cell_type": "code",
   "execution_count": 75,
   "id": "78e0ff1f",
   "metadata": {},
   "outputs": [
    {
     "data": {
      "text/plain": [
       "'B'"
      ]
     },
     "execution_count": 75,
     "metadata": {},
     "output_type": "execute_result"
    }
   ],
   "source": [
    "abc[11]"
   ]
  },
  {
   "cell_type": "code",
   "execution_count": 80,
   "id": "c706a761",
   "metadata": {},
   "outputs": [
    {
     "data": {
      "text/plain": [
       "'f '"
      ]
     },
     "execution_count": 80,
     "metadata": {},
     "output_type": "execute_result"
    }
   ],
   "source": [
    "abc[5:7]"
   ]
  },
  {
   "cell_type": "code",
   "execution_count": 79,
   "id": "3775a26e",
   "metadata": {},
   "outputs": [
    {
     "data": {
      "text/plain": [
       "' o'"
      ]
     },
     "execution_count": 79,
     "metadata": {},
     "output_type": "execute_result"
    }
   ],
   "source": [
    "abc[3:5]"
   ]
  },
  {
   "cell_type": "markdown",
   "id": "dcde6075",
   "metadata": {},
   "source": [
    "## Single Position"
   ]
  },
  {
   "cell_type": "code",
   "execution_count": 92,
   "id": "c1ac926b",
   "metadata": {},
   "outputs": [
    {
     "data": {
      "text/plain": [
       "'Out of The Box Study'"
      ]
     },
     "execution_count": 92,
     "metadata": {},
     "output_type": "execute_result"
    }
   ],
   "source": [
    "abc[:20]"
   ]
  },
  {
   "cell_type": "code",
   "execution_count": 93,
   "id": "0b178218",
   "metadata": {},
   "outputs": [
    {
     "data": {
      "text/plain": [
       "'ut of The Box Study Center'"
      ]
     },
     "execution_count": 93,
     "metadata": {},
     "output_type": "execute_result"
    }
   ],
   "source": [
    "abc[1:]"
   ]
  },
  {
   "cell_type": "markdown",
   "id": "6d25b462",
   "metadata": {},
   "source": [
    "## Negative Indexing"
   ]
  },
  {
   "cell_type": "code",
   "execution_count": 97,
   "id": "9e0a7685",
   "metadata": {},
   "outputs": [
    {
     "data": {
      "text/plain": [
       "'Cen'"
      ]
     },
     "execution_count": 97,
     "metadata": {},
     "output_type": "execute_result"
    }
   ],
   "source": [
    "abc[-6:-3]"
   ]
  },
  {
   "cell_type": "markdown",
   "id": "b3f5ce5a",
   "metadata": {},
   "source": [
    "## Modify Strings"
   ]
  },
  {
   "cell_type": "code",
   "execution_count": 15,
   "id": "56988384",
   "metadata": {},
   "outputs": [],
   "source": [
    "a='   I live in Kathmandu & I am working as a Manager at Hotel Hilton. & I am willing to relocate  '"
   ]
  },
  {
   "cell_type": "code",
   "execution_count": 16,
   "id": "ca90fa85",
   "metadata": {},
   "outputs": [
    {
     "name": "stdout",
     "output_type": "stream",
     "text": [
      "   I live in Kathmandu & I am working as a Manager at Hotel Hilton. & I am willing to relocate  \n"
     ]
    }
   ],
   "source": [
    "print(a)"
   ]
  },
  {
   "cell_type": "code",
   "execution_count": 17,
   "id": "255fc72a",
   "metadata": {},
   "outputs": [
    {
     "data": {
      "text/plain": [
       "'   I LIVE IN KATHMANDU & I AM WORKING AS A MANAGER AT HOTEL HILTON. & I AM WILLING TO RELOCATE  '"
      ]
     },
     "execution_count": 17,
     "metadata": {},
     "output_type": "execute_result"
    }
   ],
   "source": [
    "a.upper()"
   ]
  },
  {
   "cell_type": "code",
   "execution_count": 18,
   "id": "9c217ce9",
   "metadata": {},
   "outputs": [
    {
     "data": {
      "text/plain": [
       "'   i live in kathmandu & i am working as a manager at hotel hilton. & i am willing to relocate  '"
      ]
     },
     "execution_count": 18,
     "metadata": {},
     "output_type": "execute_result"
    }
   ],
   "source": [
    "a.lower()"
   ]
  },
  {
   "cell_type": "code",
   "execution_count": 19,
   "id": "9a0f7280",
   "metadata": {},
   "outputs": [],
   "source": [
    "def lower(x):\n",
    "    print(x.lower())"
   ]
  },
  {
   "cell_type": "code",
   "execution_count": 20,
   "id": "7dfdefa0",
   "metadata": {},
   "outputs": [
    {
     "name": "stdout",
     "output_type": "stream",
     "text": [
      "   i live in kathmandu & i am working as a manager at hotel hilton. & i am willing to relocate  \n"
     ]
    }
   ],
   "source": [
    "lower(a)"
   ]
  },
  {
   "cell_type": "code",
   "execution_count": 21,
   "id": "2536760a",
   "metadata": {},
   "outputs": [],
   "source": [
    "a=a.strip()"
   ]
  },
  {
   "cell_type": "code",
   "execution_count": 22,
   "id": "a7b2d7f2",
   "metadata": {},
   "outputs": [
    {
     "data": {
      "text/plain": [
       "'I live in Pokhara & I am working as a Manager at Hotel Hilton. & I am willing to relocate'"
      ]
     },
     "execution_count": 22,
     "metadata": {},
     "output_type": "execute_result"
    }
   ],
   "source": [
    "a.replace('Kathmandu' , 'Pokhara')"
   ]
  },
  {
   "cell_type": "code",
   "execution_count": 23,
   "id": "2ec01a0c",
   "metadata": {},
   "outputs": [
    {
     "data": {
      "text/plain": [
       "'I live in Kathmandu & I am working as a Manager at Hotel Hilton. & I am willing to relocate'"
      ]
     },
     "execution_count": 23,
     "metadata": {},
     "output_type": "execute_result"
    }
   ],
   "source": [
    "a"
   ]
  },
  {
   "cell_type": "code",
   "execution_count": 24,
   "id": "2d055ff8",
   "metadata": {
    "scrolled": true
   },
   "outputs": [
    {
     "data": {
      "text/plain": [
       "['I',\n",
       " 'live',\n",
       " 'in',\n",
       " 'Kathmandu',\n",
       " '&',\n",
       " 'I',\n",
       " 'am',\n",
       " 'working',\n",
       " 'as',\n",
       " 'a',\n",
       " 'Manager',\n",
       " 'at',\n",
       " 'Hotel',\n",
       " 'Hilton.',\n",
       " '&',\n",
       " 'I',\n",
       " 'am',\n",
       " 'willing',\n",
       " 'to',\n",
       " 'relocate']"
      ]
     },
     "execution_count": 24,
     "metadata": {},
     "output_type": "execute_result"
    }
   ],
   "source": [
    "a.split()"
   ]
  },
  {
   "cell_type": "code",
   "execution_count": 25,
   "id": "1a376bff",
   "metadata": {},
   "outputs": [
    {
     "data": {
      "text/plain": [
       "['I live in Kathmandu ',\n",
       " ' I am working as a Manager at Hotel Hilton. ',\n",
       " ' I am willing to relocate']"
      ]
     },
     "execution_count": 25,
     "metadata": {},
     "output_type": "execute_result"
    }
   ],
   "source": [
    "a.split('&')"
   ]
  },
  {
   "cell_type": "code",
   "execution_count": 30,
   "id": "3bfc41cc",
   "metadata": {},
   "outputs": [
    {
     "data": {
      "text/plain": [
       "'I live in kathmandu & i am working as a manager at hotel hilton. & i am willing to relocate'"
      ]
     },
     "execution_count": 30,
     "metadata": {},
     "output_type": "execute_result"
    }
   ],
   "source": [
    "a.capitalize()"
   ]
  },
  {
   "cell_type": "code",
   "execution_count": 37,
   "id": "83d91b84",
   "metadata": {
    "scrolled": true
   },
   "outputs": [
    {
     "data": {
      "text/plain": [
       "'    I live in Kathmandu & I am working as a Manager at Hotel Hilton. & I am willing to relocate     '"
      ]
     },
     "execution_count": 37,
     "metadata": {},
     "output_type": "execute_result"
    }
   ],
   "source": [
    "a.center(100)"
   ]
  },
  {
   "cell_type": "code",
   "execution_count": 40,
   "id": "824ebd90",
   "metadata": {},
   "outputs": [
    {
     "name": "stdout",
     "output_type": "stream",
     "text": [
      "Help on built-in function split:\n",
      "\n",
      "split(sep=None, maxsplit=-1) method of builtins.str instance\n",
      "    Return a list of the substrings in the string, using sep as the separator string.\n",
      "    \n",
      "      sep\n",
      "        The separator used to split the string.\n",
      "    \n",
      "        When set to None (the default value), will split on any whitespace\n",
      "        character (including \\\\n \\\\r \\\\t \\\\f and spaces) and will discard\n",
      "        empty strings from the result.\n",
      "      maxsplit\n",
      "        Maximum number of splits (starting from the left).\n",
      "        -1 (the default value) means no limit.\n",
      "    \n",
      "    Note, str.split() is mainly useful for data that has been intentionally\n",
      "    delimited.  With natural text that includes punctuation, consider using\n",
      "    the regular expression module.\n",
      "\n"
     ]
    }
   ],
   "source": [
    "help(a.split)"
   ]
  },
  {
   "cell_type": "markdown",
   "id": "4e0af6e5",
   "metadata": {},
   "source": [
    "### concatenation"
   ]
  },
  {
   "cell_type": "code",
   "execution_count": 44,
   "id": "41b49e07",
   "metadata": {},
   "outputs": [],
   "source": [
    "a='Hello '\n",
    "b='World'"
   ]
  },
  {
   "cell_type": "code",
   "execution_count": 45,
   "id": "183df02a",
   "metadata": {},
   "outputs": [],
   "source": [
    "d=a+b"
   ]
  },
  {
   "cell_type": "code",
   "execution_count": 46,
   "id": "e852ccb1",
   "metadata": {},
   "outputs": [
    {
     "data": {
      "text/plain": [
       "'Hello World'"
      ]
     },
     "execution_count": 46,
     "metadata": {},
     "output_type": "execute_result"
    }
   ],
   "source": [
    "d"
   ]
  },
  {
   "cell_type": "markdown",
   "id": "b009d643",
   "metadata": {},
   "source": [
    "## string Format"
   ]
  },
  {
   "cell_type": "code",
   "execution_count": 53,
   "id": "5d540cf2",
   "metadata": {},
   "outputs": [],
   "source": [
    "a='My percentage in exam was more than '\n",
    "per=90.735478234874628"
   ]
  },
  {
   "cell_type": "code",
   "execution_count": 49,
   "id": "cc14b7dc",
   "metadata": {},
   "outputs": [],
   "source": [
    "added_text=f'My percentage in exam was more than {per}'"
   ]
  },
  {
   "cell_type": "code",
   "execution_count": 50,
   "id": "6b304f52",
   "metadata": {},
   "outputs": [
    {
     "data": {
      "text/plain": [
       "'My percentage in exam was more than 90'"
      ]
     },
     "execution_count": 50,
     "metadata": {},
     "output_type": "execute_result"
    }
   ],
   "source": [
    "added_text"
   ]
  },
  {
   "cell_type": "code",
   "execution_count": 56,
   "id": "d7cb3f95",
   "metadata": {},
   "outputs": [],
   "source": [
    "added_text_a=f'My percentage in exam was more than {per:.5f}'"
   ]
  },
  {
   "cell_type": "code",
   "execution_count": 57,
   "id": "4a5d62d8",
   "metadata": {},
   "outputs": [
    {
     "data": {
      "text/plain": [
       "'My percentage in exam was more than 90.73548'"
      ]
     },
     "execution_count": 57,
     "metadata": {},
     "output_type": "execute_result"
    }
   ],
   "source": [
    "added_text_a"
   ]
  },
  {
   "cell_type": "markdown",
   "id": "64e583de",
   "metadata": {},
   "source": [
    "### Escape Character"
   ]
  },
  {
   "cell_type": "code",
   "execution_count": 68,
   "id": "a868707c",
   "metadata": {},
   "outputs": [],
   "source": [
    "# Single Quotation Escape Way\n",
    "#\n",
    "#\n",
    "#\n",
    "abc='She is Ram\\'s Mother'"
   ]
  },
  {
   "cell_type": "code",
   "execution_count": 63,
   "id": "d4f49aed",
   "metadata": {},
   "outputs": [
    {
     "data": {
      "text/plain": [
       "\"She is Ram's Mother\""
      ]
     },
     "execution_count": 63,
     "metadata": {},
     "output_type": "execute_result"
    }
   ],
   "source": [
    "abc"
   ]
  },
  {
   "cell_type": "code",
   "execution_count": 10,
   "id": "6e2366fd",
   "metadata": {},
   "outputs": [],
   "source": [
    "abc='She is Ram\\'s Mother.\\nHer mother name is Lisa.'"
   ]
  },
  {
   "cell_type": "code",
   "execution_count": 11,
   "id": "508ab1a1",
   "metadata": {},
   "outputs": [
    {
     "name": "stdout",
     "output_type": "stream",
     "text": [
      "She is Ram's Mother.\n",
      "Her mother name is Lisa.\n"
     ]
    }
   ],
   "source": [
    "print(abc)"
   ]
  },
  {
   "cell_type": "code",
   "execution_count": 12,
   "id": "3236a4ef",
   "metadata": {},
   "outputs": [],
   "source": [
    "x=\"Hello\\nWorld\""
   ]
  },
  {
   "cell_type": "code",
   "execution_count": 8,
   "id": "de081c68",
   "metadata": {},
   "outputs": [
    {
     "data": {
      "text/plain": [
       "'Hello\\nWorld'"
      ]
     },
     "execution_count": 8,
     "metadata": {},
     "output_type": "execute_result"
    }
   ],
   "source": [
    "x"
   ]
  },
  {
   "cell_type": "markdown",
   "id": "dacbc838",
   "metadata": {},
   "source": [
    "### BOOLEAN VALUE"
   ]
  },
  {
   "cell_type": "code",
   "execution_count": 38,
   "id": "f4f6030f",
   "metadata": {},
   "outputs": [
    {
     "name": "stdout",
     "output_type": "stream",
     "text": [
      "True\n"
     ]
    }
   ],
   "source": [
    "print(3<20)"
   ]
  },
  {
   "cell_type": "code",
   "execution_count": 39,
   "id": "5cedc366",
   "metadata": {},
   "outputs": [
    {
     "name": "stdout",
     "output_type": "stream",
     "text": [
      "False\n"
     ]
    }
   ],
   "source": [
    "print(3>20)"
   ]
  },
  {
   "cell_type": "markdown",
   "id": "63f7888b",
   "metadata": {},
   "source": [
    "## Python Operators"
   ]
  },
  {
   "cell_type": "code",
   "execution_count": 77,
   "id": "6a94d48d",
   "metadata": {},
   "outputs": [],
   "source": [
    "a=24\n",
    "b=5"
   ]
  },
  {
   "cell_type": "code",
   "execution_count": 54,
   "id": "1c1f5195",
   "metadata": {},
   "outputs": [
    {
     "data": {
      "text/plain": [
       "150"
      ]
     },
     "execution_count": 54,
     "metadata": {},
     "output_type": "execute_result"
    }
   ],
   "source": [
    "a+b"
   ]
  },
  {
   "cell_type": "code",
   "execution_count": 55,
   "id": "d7eeb800",
   "metadata": {},
   "outputs": [
    {
     "data": {
      "text/plain": [
       "50"
      ]
     },
     "execution_count": 55,
     "metadata": {},
     "output_type": "execute_result"
    }
   ],
   "source": [
    "a-b"
   ]
  },
  {
   "cell_type": "code",
   "execution_count": 56,
   "id": "703141fb",
   "metadata": {},
   "outputs": [
    {
     "data": {
      "text/plain": [
       "5000"
      ]
     },
     "execution_count": 56,
     "metadata": {},
     "output_type": "execute_result"
    }
   ],
   "source": [
    "a*b"
   ]
  },
  {
   "cell_type": "code",
   "execution_count": 57,
   "id": "26484f91",
   "metadata": {},
   "outputs": [
    {
     "data": {
      "text/plain": [
       "2.0"
      ]
     },
     "execution_count": 57,
     "metadata": {},
     "output_type": "execute_result"
    }
   ],
   "source": [
    "a/b"
   ]
  },
  {
   "cell_type": "code",
   "execution_count": 71,
   "id": "dc271fd1",
   "metadata": {},
   "outputs": [
    {
     "data": {
      "text/plain": [
       "2"
      ]
     },
     "execution_count": 71,
     "metadata": {},
     "output_type": "execute_result"
    }
   ],
   "source": [
    "a%b"
   ]
  },
  {
   "cell_type": "code",
   "execution_count": 72,
   "id": "aeba60ef",
   "metadata": {},
   "outputs": [
    {
     "data": {
      "text/plain": [
       "5153632"
      ]
     },
     "execution_count": 72,
     "metadata": {},
     "output_type": "execute_result"
    }
   ],
   "source": [
    "a**b"
   ]
  },
  {
   "cell_type": "code",
   "execution_count": 79,
   "id": "11b6d3be",
   "metadata": {},
   "outputs": [
    {
     "data": {
      "text/plain": [
       "4"
      ]
     },
     "execution_count": 79,
     "metadata": {},
     "output_type": "execute_result"
    }
   ],
   "source": [
    "a//b"
   ]
  },
  {
   "cell_type": "code",
   "execution_count": 78,
   "id": "7c3e1cf5",
   "metadata": {},
   "outputs": [
    {
     "data": {
      "text/plain": [
       "4.8"
      ]
     },
     "execution_count": 78,
     "metadata": {},
     "output_type": "execute_result"
    }
   ],
   "source": [
    "a/b"
   ]
  },
  {
   "cell_type": "markdown",
   "id": "f87ad43f",
   "metadata": {},
   "source": [
    "## Python Assignment Operator\n"
   ]
  },
  {
   "cell_type": "code",
   "execution_count": 107,
   "id": "78415d59",
   "metadata": {},
   "outputs": [],
   "source": [
    "a=5"
   ]
  },
  {
   "cell_type": "code",
   "execution_count": 104,
   "id": "04e13115",
   "metadata": {},
   "outputs": [],
   "source": [
    "a=a+65"
   ]
  },
  {
   "cell_type": "code",
   "execution_count": 105,
   "id": "1dcaa49b",
   "metadata": {},
   "outputs": [
    {
     "data": {
      "text/plain": [
       "135"
      ]
     },
     "execution_count": 105,
     "metadata": {},
     "output_type": "execute_result"
    }
   ],
   "source": [
    "a"
   ]
  },
  {
   "cell_type": "code",
   "execution_count": 108,
   "id": "cf9f1d71",
   "metadata": {},
   "outputs": [],
   "source": [
    "a+=65"
   ]
  },
  {
   "cell_type": "code",
   "execution_count": 109,
   "id": "33d5ed7e",
   "metadata": {},
   "outputs": [
    {
     "name": "stdout",
     "output_type": "stream",
     "text": [
      "70\n"
     ]
    }
   ],
   "source": [
    "print(a)"
   ]
  },
  {
   "cell_type": "markdown",
   "id": "2029b09d",
   "metadata": {},
   "source": [
    "## Comparision Operator"
   ]
  },
  {
   "cell_type": "code",
   "execution_count": 110,
   "id": "030badde",
   "metadata": {},
   "outputs": [],
   "source": [
    "a=50\n",
    "b=60"
   ]
  },
  {
   "cell_type": "code",
   "execution_count": 111,
   "id": "13b755fb",
   "metadata": {},
   "outputs": [
    {
     "name": "stdout",
     "output_type": "stream",
     "text": [
      "False\n"
     ]
    }
   ],
   "source": [
    "print(a==b)"
   ]
  },
  {
   "cell_type": "code",
   "execution_count": 112,
   "id": "03153112",
   "metadata": {},
   "outputs": [
    {
     "name": "stdout",
     "output_type": "stream",
     "text": [
      "True\n"
     ]
    }
   ],
   "source": [
    "print(a!=b)"
   ]
  },
  {
   "cell_type": "code",
   "execution_count": 113,
   "id": "8517c894",
   "metadata": {},
   "outputs": [
    {
     "name": "stdout",
     "output_type": "stream",
     "text": [
      "True\n"
     ]
    }
   ],
   "source": [
    "print(a<b)"
   ]
  },
  {
   "cell_type": "code",
   "execution_count": 114,
   "id": "f40ee232",
   "metadata": {},
   "outputs": [
    {
     "name": "stdout",
     "output_type": "stream",
     "text": [
      "False\n"
     ]
    }
   ],
   "source": [
    "print(a>b)"
   ]
  },
  {
   "cell_type": "markdown",
   "id": "a9c419cc",
   "metadata": {},
   "source": [
    "## Python Logical Operator"
   ]
  },
  {
   "cell_type": "code",
   "execution_count": 115,
   "id": "53b48259",
   "metadata": {},
   "outputs": [],
   "source": [
    "z=20"
   ]
  },
  {
   "cell_type": "code",
   "execution_count": 116,
   "id": "a7645755",
   "metadata": {},
   "outputs": [
    {
     "name": "stdout",
     "output_type": "stream",
     "text": [
      "False\n"
     ]
    }
   ],
   "source": [
    "print(z<10 and z>8)"
   ]
  },
  {
   "cell_type": "code",
   "execution_count": 117,
   "id": "76642dbe",
   "metadata": {},
   "outputs": [
    {
     "name": "stdout",
     "output_type": "stream",
     "text": [
      "True\n"
     ]
    }
   ],
   "source": [
    "print(z<10 or z>8)"
   ]
  },
  {
   "cell_type": "code",
   "execution_count": null,
   "id": "8ac6cb0c",
   "metadata": {},
   "outputs": [],
   "source": []
  }
 ],
 "metadata": {
  "kernelspec": {
   "display_name": "Python 3 (ipykernel)",
   "language": "python",
   "name": "python3"
  },
  "language_info": {
   "codemirror_mode": {
    "name": "ipython",
    "version": 3
   },
   "file_extension": ".py",
   "mimetype": "text/x-python",
   "name": "python",
   "nbconvert_exporter": "python",
   "pygments_lexer": "ipython3",
   "version": "3.11.4"
  }
 },
 "nbformat": 4,
 "nbformat_minor": 5
}
